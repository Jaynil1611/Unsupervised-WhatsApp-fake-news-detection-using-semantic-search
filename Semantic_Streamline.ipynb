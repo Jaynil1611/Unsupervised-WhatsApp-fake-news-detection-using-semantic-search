{
  "nbformat": 4,
  "nbformat_minor": 0,
  "metadata": {
    "colab": {
      "name": "Semantic_Streamline.ipynb",
      "provenance": [],
      "collapsed_sections": []
    },
    "kernelspec": {
      "name": "python3",
      "display_name": "Python 3"
    },
    "accelerator": "TPU"
  },
  "cells": [
    {
      "cell_type": "code",
      "metadata": {
        "id": "AF94iNYZQmlg",
        "colab": {
          "base_uri": "https://localhost:8080/",
          "height": 421
        },
        "outputId": "17cfb1dc-ef4c-4c78-eb9b-6de75b68bb2a"
      },
      "source": [
        "!pip install sentence-transformers"
      ],
      "execution_count": null,
      "outputs": [
        {
          "output_type": "stream",
          "text": [
            "Requirement already satisfied: sentence-transformers in /usr/local/lib/python3.6/dist-packages (0.2.6.1)\n",
            "Requirement already satisfied: scikit-learn in /usr/local/lib/python3.6/dist-packages (from sentence-transformers) (0.22.2.post1)\n",
            "Requirement already satisfied: scipy in /usr/local/lib/python3.6/dist-packages (from sentence-transformers) (1.4.1)\n",
            "Requirement already satisfied: numpy in /usr/local/lib/python3.6/dist-packages (from sentence-transformers) (1.18.4)\n",
            "Requirement already satisfied: nltk in /usr/local/lib/python3.6/dist-packages (from sentence-transformers) (3.2.5)\n",
            "Requirement already satisfied: tqdm in /usr/local/lib/python3.6/dist-packages (from sentence-transformers) (4.41.1)\n",
            "Requirement already satisfied: torch>=1.0.1 in /usr/local/lib/python3.6/dist-packages (from sentence-transformers) (1.5.0+cu101)\n",
            "Requirement already satisfied: transformers>=2.8.0 in /usr/local/lib/python3.6/dist-packages (from sentence-transformers) (2.9.1)\n",
            "Requirement already satisfied: joblib>=0.11 in /usr/local/lib/python3.6/dist-packages (from scikit-learn->sentence-transformers) (0.15.1)\n",
            "Requirement already satisfied: six in /usr/local/lib/python3.6/dist-packages (from nltk->sentence-transformers) (1.12.0)\n",
            "Requirement already satisfied: future in /usr/local/lib/python3.6/dist-packages (from torch>=1.0.1->sentence-transformers) (0.16.0)\n",
            "Requirement already satisfied: sentencepiece in /usr/local/lib/python3.6/dist-packages (from transformers>=2.8.0->sentence-transformers) (0.1.91)\n",
            "Requirement already satisfied: regex!=2019.12.17 in /usr/local/lib/python3.6/dist-packages (from transformers>=2.8.0->sentence-transformers) (2019.12.20)\n",
            "Requirement already satisfied: sacremoses in /usr/local/lib/python3.6/dist-packages (from transformers>=2.8.0->sentence-transformers) (0.0.43)\n",
            "Requirement already satisfied: dataclasses; python_version < \"3.7\" in /usr/local/lib/python3.6/dist-packages (from transformers>=2.8.0->sentence-transformers) (0.7)\n",
            "Requirement already satisfied: filelock in /usr/local/lib/python3.6/dist-packages (from transformers>=2.8.0->sentence-transformers) (3.0.12)\n",
            "Requirement already satisfied: tokenizers==0.7.0 in /usr/local/lib/python3.6/dist-packages (from transformers>=2.8.0->sentence-transformers) (0.7.0)\n",
            "Requirement already satisfied: requests in /usr/local/lib/python3.6/dist-packages (from transformers>=2.8.0->sentence-transformers) (2.23.0)\n",
            "Requirement already satisfied: click in /usr/local/lib/python3.6/dist-packages (from sacremoses->transformers>=2.8.0->sentence-transformers) (7.1.2)\n",
            "Requirement already satisfied: chardet<4,>=3.0.2 in /usr/local/lib/python3.6/dist-packages (from requests->transformers>=2.8.0->sentence-transformers) (3.0.4)\n",
            "Requirement already satisfied: certifi>=2017.4.17 in /usr/local/lib/python3.6/dist-packages (from requests->transformers>=2.8.0->sentence-transformers) (2020.4.5.1)\n",
            "Requirement already satisfied: urllib3!=1.25.0,!=1.25.1,<1.26,>=1.21.1 in /usr/local/lib/python3.6/dist-packages (from requests->transformers>=2.8.0->sentence-transformers) (1.24.3)\n",
            "Requirement already satisfied: idna<3,>=2.5 in /usr/local/lib/python3.6/dist-packages (from requests->transformers>=2.8.0->sentence-transformers) (2.9)\n"
          ],
          "name": "stdout"
        }
      ]
    },
    {
      "cell_type": "code",
      "metadata": {
        "id": "SjcCcyrrQp2c",
        "colab": {
          "base_uri": "https://localhost:8080/",
          "height": 33
        },
        "outputId": "56278b70-b38f-4259-cedd-7dbe87b23bca"
      },
      "source": [
        "from google.colab import drive\n",
        "drive.mount('/content/drive')"
      ],
      "execution_count": null,
      "outputs": [
        {
          "output_type": "stream",
          "text": [
            "Drive already mounted at /content/drive; to attempt to forcibly remount, call drive.mount(\"/content/drive\", force_remount=True).\n"
          ],
          "name": "stdout"
        }
      ]
    },
    {
      "cell_type": "code",
      "metadata": {
        "id": "PgjUUFgXRoTP",
        "colab": {
          "base_uri": "https://localhost:8080/",
          "height": 280
        },
        "outputId": "215e8784-c0c3-4017-8779-c59be3a21d9a"
      },
      "source": [
        "import pandas as pd\n",
        "# df = pd.read_csv(\"news_17_18_19_20.csv\")\n",
        "df = pd.read_csv(\"/content/drive/My Drive/Colab Notebooks/news_17_18_19_20_21_22_23_24_25_26.csv\")\n",
        "df.drop(\"Unnamed: 0\",axis=1,inplace=True)\n",
        "df.head()"
      ],
      "execution_count": null,
      "outputs": [
        {
          "output_type": "execute_result",
          "data": {
            "text/html": [
              "<div>\n",
              "<style scoped>\n",
              "    .dataframe tbody tr th:only-of-type {\n",
              "        vertical-align: middle;\n",
              "    }\n",
              "\n",
              "    .dataframe tbody tr th {\n",
              "        vertical-align: top;\n",
              "    }\n",
              "\n",
              "    .dataframe thead th {\n",
              "        text-align: right;\n",
              "    }\n",
              "</style>\n",
              "<table border=\"1\" class=\"dataframe\">\n",
              "  <thead>\n",
              "    <tr style=\"text-align: right;\">\n",
              "      <th></th>\n",
              "      <th>News_Url</th>\n",
              "      <th>Title</th>\n",
              "      <th>Article</th>\n",
              "      <th>Summary</th>\n",
              "      <th>Keywords</th>\n",
              "    </tr>\n",
              "  </thead>\n",
              "  <tbody>\n",
              "    <tr>\n",
              "      <th>0</th>\n",
              "      <td>https://auto.hindustantimes.com/auto/cars/coro...</td>\n",
              "      <td>Coronavirus: This car company is offering zero...</td>\n",
              "      <td>The auto industry has been facing an unprecede...</td>\n",
              "      <td>The company has launched a broad plan to comba...</td>\n",
              "      <td>['group', 'offering', 'plan', 'homes', 'employ...</td>\n",
              "    </tr>\n",
              "    <tr>\n",
              "      <th>1</th>\n",
              "      <td>https://www.healthshots.com/intimate-health/me...</td>\n",
              "      <td>Is it just PMS or are you suffering from Preme...</td>\n",
              "      <td>Updated on:17 March 2020, 15:15pm IST    Ladie...</td>\n",
              "      <td>Updated on:17 March 2020, 15:15pm ISTLadies, t...</td>\n",
              "      <td>['pain', 'disorder', 'dysphoric', 'pms', 'suff...</td>\n",
              "    </tr>\n",
              "    <tr>\n",
              "      <th>2</th>\n",
              "      <td>https://www.healthshots.com/fitness/staying-fi...</td>\n",
              "      <td>These 6 workout mistakes that can lead to a te...</td>\n",
              "      <td>Updated on:17 March 2020, 14:14pm IST    Do yo...</td>\n",
              "      <td>Updated on:17 March 2020, 14:14pm ISTDo your i...</td>\n",
              "      <td>['mistakes', 'khemani', 'workout', 'lead', 'yo...</td>\n",
              "    </tr>\n",
              "    <tr>\n",
              "      <th>3</th>\n",
              "      <td>https://www.healthshots.com/health-news/exposu...</td>\n",
              "      <td>Exposure to tough life events in early life im...</td>\n",
              "      <td>Updated on:17 March 2020, 12:12pm IST    Expos...</td>\n",
              "      <td>If very early in life some of us experience tr...</td>\n",
              "      <td>['health', 'quality', 'problems', 'researchers...</td>\n",
              "    </tr>\n",
              "    <tr>\n",
              "      <th>4</th>\n",
              "      <td>https://www.healthshots.com/health-news/eat-pr...</td>\n",
              "      <td>Eat protein today to reduce muscle loss tomorr...</td>\n",
              "      <td>Published on:17 March 2020, 10:56am IST    Mus...</td>\n",
              "      <td>After the age of 30, bone and muscle loss is v...</td>\n",
              "      <td>['eat', 'study', 'help', 'protein', 'loss', 't...</td>\n",
              "    </tr>\n",
              "  </tbody>\n",
              "</table>\n",
              "</div>"
            ],
            "text/plain": [
              "                                            News_Url  ...                                           Keywords\n",
              "0  https://auto.hindustantimes.com/auto/cars/coro...  ...  ['group', 'offering', 'plan', 'homes', 'employ...\n",
              "1  https://www.healthshots.com/intimate-health/me...  ...  ['pain', 'disorder', 'dysphoric', 'pms', 'suff...\n",
              "2  https://www.healthshots.com/fitness/staying-fi...  ...  ['mistakes', 'khemani', 'workout', 'lead', 'yo...\n",
              "3  https://www.healthshots.com/health-news/exposu...  ...  ['health', 'quality', 'problems', 'researchers...\n",
              "4  https://www.healthshots.com/health-news/eat-pr...  ...  ['eat', 'study', 'help', 'protein', 'loss', 't...\n",
              "\n",
              "[5 rows x 5 columns]"
            ]
          },
          "metadata": {
            "tags": []
          },
          "execution_count": 22
        }
      ]
    },
    {
      "cell_type": "code",
      "metadata": {
        "id": "_-Y0n7FsQ0ZV"
      },
      "source": [
        "import scipy"
      ],
      "execution_count": null,
      "outputs": []
    },
    {
      "cell_type": "code",
      "metadata": {
        "id": "c4N-UBOAQ9ne"
      },
      "source": [
        "from sentence_transformers import SentenceTransformer\n",
        "\n",
        "# Load the BERT model. Various models trained on Natural Language Inference (NLI) https://github.com/UKPLab/sentence-transformers/blob/master/docs/pretrained-models/nli-models.md and \n",
        "# Semantic Textual Similarity are available https://github.com/UKPLab/sentence-transformers/blob/master/docs/pretrained-models/sts-models.md\n",
        "\n",
        "model = SentenceTransformer('bert-large-nli-stsb-mean-tokens')\n",
        "# model = SentenceTransformer('bert-base-nli-stsb-mean-tokens')\n",
        "# model = SentenceTransformer('roberta-base-nli-stsb-mean-tokens')\n",
        "# model = SentenceTransformer('roberta-large-nli-stsb-mean-tokens')\n",
        "# model = SentenceTransformer('distilbert-base-nli-stsb-mean-tokens')"
      ],
      "execution_count": null,
      "outputs": []
    },
    {
      "cell_type": "code",
      "metadata": {
        "id": "5yKs22-cQ_Ri"
      },
      "source": [
        "from gensim.summarization import summarize\n",
        "from gensim.summarization import keywords"
      ],
      "execution_count": null,
      "outputs": []
    },
    {
      "cell_type": "code",
      "metadata": {
        "id": "jBiUMz3H8Q37"
      },
      "source": [
        "def deEmojify(inputString):\n",
        "    return inputString.encode('ascii', 'ignore').decode('ascii')"
      ],
      "execution_count": null,
      "outputs": []
    },
    {
      "cell_type": "code",
      "metadata": {
        "id": "JCh2niCzS2LW"
      },
      "source": [
        "claims = pd.read_excel(\"/content/drive/My Drive/Colab Notebooks/Corona.xlsx\")"
      ],
      "execution_count": null,
      "outputs": []
    },
    {
      "cell_type": "code",
      "metadata": {
        "id": "AUKl4S1QV5FN",
        "colab": {
          "base_uri": "https://localhost:8080/",
          "height": 154
        },
        "outputId": "1e546973-727f-4e72-b4a3-2e4ee4dce49c"
      },
      "source": [
        "claims.Claims = claims.Claims.map(deEmojify)\n",
        "claims.replace(r'(\\n|\\r|\\t|\\s)',' ', regex=True,inplace=True)\n",
        "claims['Keywords'] = pd.Series(index=df.index)\n",
        "for i in range(len(claims)):\n",
        "  claims['Keywords'].iloc[i] = keywords(claims['Claims'].iloc[i]).split(\"\\n\")"
      ],
      "execution_count": null,
      "outputs": [
        {
          "output_type": "stream",
          "text": [
            "/usr/local/lib/python3.6/dist-packages/ipykernel_launcher.py:3: DeprecationWarning: The default dtype for empty Series will be 'object' instead of 'float64' in a future version. Specify a dtype explicitly to silence this warning.\n",
            "  This is separate from the ipykernel package so we can avoid doing imports until\n",
            "/usr/local/lib/python3.6/dist-packages/pandas/core/indexing.py:671: SettingWithCopyWarning: \n",
            "A value is trying to be set on a copy of a slice from a DataFrame\n",
            "\n",
            "See the caveats in the documentation: https://pandas.pydata.org/pandas-docs/stable/user_guide/indexing.html#returning-a-view-versus-a-copy\n",
            "  self._setitem_with_indexer(indexer, value)\n"
          ],
          "name": "stderr"
        }
      ]
    },
    {
      "cell_type": "code",
      "metadata": {
        "id": "oc_zhiDURFjZ",
        "colab": {
          "base_uri": "https://localhost:8080/",
          "height": 942
        },
        "outputId": "0e14268c-2717-4da3-9112-4efac4d98eba"
      },
      "source": [
        "claims"
      ],
      "execution_count": null,
      "outputs": [
        {
          "output_type": "execute_result",
          "data": {
            "text/html": [
              "<div>\n",
              "<style scoped>\n",
              "    .dataframe tbody tr th:only-of-type {\n",
              "        vertical-align: middle;\n",
              "    }\n",
              "\n",
              "    .dataframe tbody tr th {\n",
              "        vertical-align: top;\n",
              "    }\n",
              "\n",
              "    .dataframe thead th {\n",
              "        text-align: right;\n",
              "    }\n",
              "</style>\n",
              "<table border=\"1\" class=\"dataframe\">\n",
              "  <thead>\n",
              "    <tr style=\"text-align: right;\">\n",
              "      <th></th>\n",
              "      <th>Claims</th>\n",
              "      <th>Label</th>\n",
              "      <th>Keywords</th>\n",
              "    </tr>\n",
              "  </thead>\n",
              "  <tbody>\n",
              "    <tr>\n",
              "      <th>0</th>\n",
              "      <td>Latest updates ... New Bollywood movie in prod...</td>\n",
              "      <td>FAKE</td>\n",
              "      <td>[security, pyar, hero, like, shah, rukh, bolly...</td>\n",
              "    </tr>\n",
              "    <tr>\n",
              "      <th>1</th>\n",
              "      <td>NOTE: Important msg from Kerala police to all ...</td>\n",
              "      <td>FAKE</td>\n",
              "      <td>[pls, kerala]</td>\n",
              "    </tr>\n",
              "    <tr>\n",
              "      <th>2</th>\n",
              "      <td>\"NASA satellite videos LIVE telecast have show...</td>\n",
              "      <td>FAKE</td>\n",
              "      <td>[satellite, waves, wave, covid]</td>\n",
              "    </tr>\n",
              "    <tr>\n",
              "      <th>3</th>\n",
              "      <td>Hello everyone   Dear friends tomorrow is one ...</td>\n",
              "      <td>FAKE</td>\n",
              "      <td>[pliz, viruses, friends, help, helpful, kapoor]</td>\n",
              "    </tr>\n",
              "    <tr>\n",
              "      <th>4</th>\n",
              "      <td>79 suspected cases  of Covid 19 detected in ou...</td>\n",
              "      <td>FAKE</td>\n",
              "      <td>[dahisar, area, areas, stay, quarantined, solu...</td>\n",
              "    </tr>\n",
              "    <tr>\n",
              "      <th>5</th>\n",
              "      <td>Antidote for Wuhan Virus - coronavirus (and ot...</td>\n",
              "      <td>FAKE</td>\n",
              "      <td>[indian, rasam, virus, powder, way, spreading,...</td>\n",
              "    </tr>\n",
              "    <tr>\n",
              "      <th>6</th>\n",
              "      <td>AN OPINION GIVEN : 5 pm ; 22nd Mar, 'amavasya'...</td>\n",
              "      <td>FAKE</td>\n",
              "      <td>[virus, vibrations, vibration, amavasya darkes...</td>\n",
              "    </tr>\n",
              "    <tr>\n",
              "      <th>7</th>\n",
              "      <td>Russian president Vladimir Putin released 800 ...</td>\n",
              "      <td>FAKE</td>\n",
              "      <td>[president]</td>\n",
              "    </tr>\n",
              "    <tr>\n",
              "      <th>8</th>\n",
              "      <td>Unicef The corona virus is large in size with...</td>\n",
              "      <td>FAKE</td>\n",
              "      <td>[hot, corona virus, killing, killed, kills, wa...</td>\n",
              "    </tr>\n",
              "    <tr>\n",
              "      <th>9</th>\n",
              "      <td>Central Railway  Press Release  *Trains cancel...</td>\n",
              "      <td>FAKE</td>\n",
              "      <td>[express, mumbai, nagpur, pune, preventive, ce...</td>\n",
              "    </tr>\n",
              "    <tr>\n",
              "      <th>10</th>\n",
              "      <td>Most Urgent,Very Serious, Important informatio...</td>\n",
              "      <td>FAKE</td>\n",
              "      <td>[fever, drink, information, emergency, prevent...</td>\n",
              "    </tr>\n",
              "    <tr>\n",
              "      <th>11</th>\n",
              "      <td>Pass it please.  Good news, Wuhan's coronaviru...</td>\n",
              "      <td>FAKE</td>\n",
              "      <td>[boiled garlic, boil, water]</td>\n",
              "    </tr>\n",
              "    <tr>\n",
              "      <th>12</th>\n",
              "      <td>Corona virus [sic] before it reaches the lungs...</td>\n",
              "      <td>FAKE</td>\n",
              "      <td>[virus, water]</td>\n",
              "    </tr>\n",
              "    <tr>\n",
              "      <th>13</th>\n",
              "      <td>Everyone should ensure your mouth &amp; throat are...</td>\n",
              "      <td>FAKE</td>\n",
              "      <td>[mouth]</td>\n",
              "    </tr>\n",
              "    <tr>\n",
              "      <th>14</th>\n",
              "      <td>Dr. Li Wenliang, China's hero doctor who was p...</td>\n",
              "      <td>FAKE</td>\n",
              "      <td>[tea, stimulant, stimulate compounds, virus, c...</td>\n",
              "    </tr>\n",
              "    <tr>\n",
              "      <th>15</th>\n",
              "      <td>Corona dialogue in the population  Despite man...</td>\n",
              "      <td>FAKE</td>\n",
              "      <td>[people, health, social, corona, small, hygien...</td>\n",
              "    </tr>\n",
              "    <tr>\n",
              "      <th>16</th>\n",
              "      <td>Ayala wrote it in satire ...  These devotees s...</td>\n",
              "      <td>FAKE</td>\n",
              "      <td>[trump, broke, narendra, scientists, nasa, kept]</td>\n",
              "    </tr>\n",
              "    <tr>\n",
              "      <th>17</th>\n",
              "      <td>There is a big yoga science behind the Prime M...</td>\n",
              "      <td>FAKE</td>\n",
              "      <td>[kailash, information, spreading, spread, pers...</td>\n",
              "    </tr>\n",
              "    <tr>\n",
              "      <th>18</th>\n",
              "      <td>As carona virus life at one place is 12 hrs an...</td>\n",
              "      <td>FAKE</td>\n",
              "      <td>[virus]</td>\n",
              "    </tr>\n",
              "    <tr>\n",
              "      <th>19</th>\n",
              "      <td>Brief of NaMo 1. Lock down of whole country  f...</td>\n",
              "      <td>True</td>\n",
              "      <td>[affected, got, govt, care, careful, central, ...</td>\n",
              "    </tr>\n",
              "    <tr>\n",
              "      <th>20</th>\n",
              "      <td>First in the country: Goa launches a self-asse...</td>\n",
              "      <td>True</td>\n",
              "      <td>[goa, tourists, interactive]</td>\n",
              "    </tr>\n",
              "    <tr>\n",
              "      <th>21</th>\n",
              "      <td>Vadodara's 8th positive Covid-19 patient never...</td>\n",
              "      <td>True</td>\n",
              "      <td>[collector, nadiad, vadodara, media, night, ad...</td>\n",
              "    </tr>\n",
              "    <tr>\n",
              "      <th>22</th>\n",
              "      <td>Recovered, Mumbai, Pune coronavirus cases retu...</td>\n",
              "      <td>True</td>\n",
              "      <td>[home, mumbai, night, awati, patients, result,...</td>\n",
              "    </tr>\n",
              "    <tr>\n",
              "      <th>23</th>\n",
              "      <td>Three persons, with travel history to Spain, A...</td>\n",
              "      <td>True</td>\n",
              "      <td>[covid, special, specially, tested, testing, t...</td>\n",
              "    </tr>\n",
              "    <tr>\n",
              "      <th>24</th>\n",
              "      <td>Maharashtra Chief Minister Uddhav Thackeray sa...</td>\n",
              "      <td>True</td>\n",
              "      <td>[telling, chief, thackeray, minister]</td>\n",
              "    </tr>\n",
              "    <tr>\n",
              "      <th>25</th>\n",
              "      <td>Tamil Nadu Chief Minister Edappadi K Palaniswa...</td>\n",
              "      <td>True</td>\n",
              "      <td>[vehicles, nadu, announced, state]</td>\n",
              "    </tr>\n",
              "    <tr>\n",
              "      <th>26</th>\n",
              "      <td>Japanese Prime Minister Shinzo Abe said for th...</td>\n",
              "      <td>True</td>\n",
              "      <td>[olympic, prime, minister, shinzo]</td>\n",
              "    </tr>\n",
              "    <tr>\n",
              "      <th>27</th>\n",
              "      <td>Thirty-six days of lockdown in an apartment in...</td>\n",
              "      <td>True</td>\n",
              "      <td>[quarantine, outbreak, lockdown, himachal]</td>\n",
              "    </tr>\n",
              "    <tr>\n",
              "      <th>28</th>\n",
              "      <td>Journalist who attended Kamal Naths press meet...</td>\n",
              "      <td>True</td>\n",
              "      <td>[positive, tests, tested, test, kamal, press]</td>\n",
              "    </tr>\n",
              "    <tr>\n",
              "      <th>29</th>\n",
              "      <td>Prime Minister Narendra Modi has said he was v...</td>\n",
              "      <td>True</td>\n",
              "      <td>[people, credible, airlines, narendra, ministe...</td>\n",
              "    </tr>\n",
              "  </tbody>\n",
              "</table>\n",
              "</div>"
            ],
            "text/plain": [
              "                                               Claims  ...                                           Keywords\n",
              "0   Latest updates ... New Bollywood movie in prod...  ...  [security, pyar, hero, like, shah, rukh, bolly...\n",
              "1   NOTE: Important msg from Kerala police to all ...  ...                                      [pls, kerala]\n",
              "2   \"NASA satellite videos LIVE telecast have show...  ...                    [satellite, waves, wave, covid]\n",
              "3   Hello everyone   Dear friends tomorrow is one ...  ...    [pliz, viruses, friends, help, helpful, kapoor]\n",
              "4   79 suspected cases  of Covid 19 detected in ou...  ...  [dahisar, area, areas, stay, quarantined, solu...\n",
              "5   Antidote for Wuhan Virus - coronavirus (and ot...  ...  [indian, rasam, virus, powder, way, spreading,...\n",
              "6   AN OPINION GIVEN : 5 pm ; 22nd Mar, 'amavasya'...  ...  [virus, vibrations, vibration, amavasya darkes...\n",
              "7   Russian president Vladimir Putin released 800 ...  ...                                        [president]\n",
              "8    Unicef The corona virus is large in size with...  ...  [hot, corona virus, killing, killed, kills, wa...\n",
              "9   Central Railway  Press Release  *Trains cancel...  ...  [express, mumbai, nagpur, pune, preventive, ce...\n",
              "10  Most Urgent,Very Serious, Important informatio...  ...  [fever, drink, information, emergency, prevent...\n",
              "11  Pass it please.  Good news, Wuhan's coronaviru...  ...                       [boiled garlic, boil, water]\n",
              "12  Corona virus [sic] before it reaches the lungs...  ...                                     [virus, water]\n",
              "13  Everyone should ensure your mouth & throat are...  ...                                            [mouth]\n",
              "14  Dr. Li Wenliang, China's hero doctor who was p...  ...  [tea, stimulant, stimulate compounds, virus, c...\n",
              "15  Corona dialogue in the population  Despite man...  ...  [people, health, social, corona, small, hygien...\n",
              "16  Ayala wrote it in satire ...  These devotees s...  ...   [trump, broke, narendra, scientists, nasa, kept]\n",
              "17  There is a big yoga science behind the Prime M...  ...  [kailash, information, spreading, spread, pers...\n",
              "18  As carona virus life at one place is 12 hrs an...  ...                                            [virus]\n",
              "19  Brief of NaMo 1. Lock down of whole country  f...  ...  [affected, got, govt, care, careful, central, ...\n",
              "20  First in the country: Goa launches a self-asse...  ...                       [goa, tourists, interactive]\n",
              "21  Vadodara's 8th positive Covid-19 patient never...  ...  [collector, nadiad, vadodara, media, night, ad...\n",
              "22  Recovered, Mumbai, Pune coronavirus cases retu...  ...  [home, mumbai, night, awati, patients, result,...\n",
              "23  Three persons, with travel history to Spain, A...  ...  [covid, special, specially, tested, testing, t...\n",
              "24  Maharashtra Chief Minister Uddhav Thackeray sa...  ...              [telling, chief, thackeray, minister]\n",
              "25  Tamil Nadu Chief Minister Edappadi K Palaniswa...  ...                 [vehicles, nadu, announced, state]\n",
              "26  Japanese Prime Minister Shinzo Abe said for th...  ...                 [olympic, prime, minister, shinzo]\n",
              "27  Thirty-six days of lockdown in an apartment in...  ...         [quarantine, outbreak, lockdown, himachal]\n",
              "28  Journalist who attended Kamal Naths press meet...  ...      [positive, tests, tested, test, kamal, press]\n",
              "29  Prime Minister Narendra Modi has said he was v...  ...  [people, credible, airlines, narendra, ministe...\n",
              "\n",
              "[30 rows x 3 columns]"
            ]
          },
          "metadata": {
            "tags": []
          },
          "execution_count": 30
        }
      ]
    },
    {
      "cell_type": "code",
      "metadata": {
        "id": "HoAtGFlFeRC9"
      },
      "source": [
        "def article_emdeddings(result_df):     \n",
        "    embeddings = model.encode(list(result_df.Article))\n",
        "    result_df['Embedding'] = embeddings\n",
        "    return result_df\n",
        "\n",
        "def claim_embeddings(claim_df,i):\n",
        "    embeddings = model.encode([claim_df.Claims.iloc[i]])\n",
        "    claim_df[\"Embedding\"].iloc[i] = embeddings\n",
        "    # print(claim_df)\n",
        "    return claim_df"
      ],
      "execution_count": null,
      "outputs": []
    },
    {
      "cell_type": "code",
      "metadata": {
        "id": "VzAZ0dvjRPhd"
      },
      "source": [
        "from sklearn.metrics.pairwise import cosine_distances,manhattan_distances,paired_cosine_distances\n",
        "from sklearn.metrics.pairwise import euclidean_distances,cosine_similarity\n",
        "import numpy as np"
      ],
      "execution_count": null,
      "outputs": []
    },
    {
      "cell_type": "code",
      "metadata": {
        "id": "atGjBianhiS4"
      },
      "source": [
        "def output(claim_df,result_df,k):\n",
        "  queries = [claim_df.Claims.iloc[k]]\n",
        "  query_embeddings = claim_df.Embedding.iloc[k] \n",
        "  sentence_embeddings = list(result_df['Embedding'])\n",
        "  # print(queries)\n",
        "  # print(query_embeddings)\n",
        "  # print(sentence_embeddings.shape)\n",
        "  number_top_matches = 2\n",
        "  final=[]\n",
        "  for query, query_embedding in zip(queries, query_embeddings):\n",
        "      # distances = scipy.spatial.distance.cdist([query_embedding], sentence_embeddings, \"cosine\")[0]\n",
        "      distances = cosine_distances([query_embedding],sentence_embeddings)[0]\n",
        "      results = zip(range(len(distances)), distances)\n",
        "      results = sorted(results, key=lambda x: x[1])\n",
        "\n",
        "      print(\"\\n\\n======================\\n\\n\")\n",
        "      # print(\"Query:\", query)\n",
        "      # print(\"\\nTop 3 most similar sentences in corpus:\")\n",
        "      sources=[]\n",
        "      for idx, distance in results[0:number_top_matches]:\n",
        "          # final[result_df.Article.iloc[idx]] = float(1-distance)\n",
        "          # print(result_df.Article.iloc[idx].strip(), \"\\n(Cosine Score: %.4f)\" % (1-distance))\n",
        "          # print(\"\\n\",result_df.News_Url.iloc[idx])\n",
        "          sources.append({\"cosine_distance\":float(distance),\"cosine_similarity\":float(1-distance),\"url\":result_df.News_Url.iloc[idx]})\n",
        "      tot=0\n",
        "      for s in sources:\n",
        "        tot+=s['cosine_similarity']\n",
        "      mean=tot/number_top_matches\n",
        "      if(round(mean*100,2)>50):\n",
        "        final.append({\"Value\":True,\"sources\":sources,\"claim\":k})\n",
        "      else:\n",
        "        final.append({\"Value\":False,\"sources\":sources,\"claim\":k})\n",
        "  return final\n"
      ],
      "execution_count": null,
      "outputs": []
    },
    {
      "cell_type": "code",
      "metadata": {
        "id": "haa0_CY5Ykm9"
      },
      "source": [
        "claims['Embedding'] = None\n",
        "# claim_df\n",
        "# claim_df\n",
        "claim_df = claims\n"
      ],
      "execution_count": null,
      "outputs": []
    },
    {
      "cell_type": "code",
      "metadata": {
        "id": "40ae9nDsg0Tc",
        "colab": {
          "base_uri": "https://localhost:8080/",
          "height": 117
        },
        "outputId": "8acff29f-473f-4457-850f-f377842d8b94"
      },
      "source": [
        "final = []\n",
        "# k1 = list(range(10,20))\n",
        "k1 = [18]\n",
        "for k in k1:\n",
        "  a = []\n",
        "  key = claims.Keywords.iloc[k]\n",
        "  for i in range(len(df)):\n",
        "    count = 0\n",
        "    for j in key:\n",
        "      count += df.Keywords.iloc[i].count(j)\n",
        "    if(count>=3):\n",
        "      a.append(i)\n",
        "  if(len(a)==0):\n",
        "    print(\"Claim at : {0} is FAKE. \".format(k))\n",
        "    continue\n",
        "  result_df = pd.DataFrame(columns=df.columns)\n",
        "  print(a) \n",
        "  for i in set(a):\n",
        "    result_df = result_df.append(df.iloc[i])\n",
        "  result_df = article_emdeddings(result_df)\n",
        "  claim_df = claim_embeddings(claims,k)\n",
        "  final.append(output(claim_df,result_df,k))"
      ],
      "execution_count": null,
      "outputs": [
        {
          "output_type": "stream",
          "text": [
            "[2782, 3102, 3675]\n",
            "\n",
            "\n",
            "======================\n",
            "\n",
            "\n"
          ],
          "name": "stdout"
        }
      ]
    },
    {
      "cell_type": "code",
      "metadata": {
        "id": "N7Z-nVc-cJab",
        "colab": {
          "base_uri": "https://localhost:8080/",
          "height": 150
        },
        "outputId": "bf34c6db-3f15-43e6-d5d0-eac5aea0d15b"
      },
      "source": [
        "final "
      ],
      "execution_count": null,
      "outputs": [
        {
          "output_type": "execute_result",
          "data": {
            "text/plain": [
              "[[{'Value': False,\n",
              "   'claim': 18,\n",
              "   'sources': [{'cosine_distance': 0.8151038289070129,\n",
              "     'cosine_similarity': 0.18489617109298706,\n",
              "     'url': 'https://indianexpress.com/article/explained/what-is-hantavirus-explained-china-6330760/'},\n",
              "    {'cosine_distance': 0.817954957485199,\n",
              "     'cosine_similarity': 0.18204504251480103,\n",
              "     'url': 'https://www.healthshots.com/health-news/everything-you-need-to-know-about-hantavirus-a-new-virus-in-china/?utm_medium=ht&utm_source=widget'}]}]]"
            ]
          },
          "metadata": {
            "tags": []
          },
          "execution_count": 40
        }
      ]
    },
    {
      "cell_type": "code",
      "metadata": {
        "id": "JU6lg0JAdO0B",
        "colab": {
          "base_uri": "https://localhost:8080/",
          "height": 50
        },
        "outputId": "044a1fdb-5c15-4763-aec1-565706fe05c7"
      },
      "source": [
        "correct = 0\n",
        "total = len(final)\n",
        "for f in final:\n",
        "  for f1 in f:\n",
        "    print(f1['Value'])\n",
        "    if(f1['Value']==True and claim_df.Label.iloc[f1['claim']]==True):\n",
        "      correct+=1\n",
        "    elif(f1['Value']==False and claim_df.Label.iloc[f1['claim']]=='FAKE'):\n",
        "      correct+=1\n",
        "\n",
        "print(\"Accuracy : \",round(float(correct/total)*100,2))"
      ],
      "execution_count": null,
      "outputs": [
        {
          "output_type": "stream",
          "text": [
            "False\n",
            "Accuracy :  100.0\n"
          ],
          "name": "stdout"
        }
      ]
    },
    {
      "cell_type": "code",
      "metadata": {
        "id": "AVl-Ui1yeDjs",
        "colab": {
          "base_uri": "https://localhost:8080/",
          "height": 34
        },
        "outputId": "078cf9b7-767c-4180-fbd9-b4b46a50e60e"
      },
      "source": [
        "s = [claim_df.Label.iloc[k] for k in k1]\n",
        "print(s)"
      ],
      "execution_count": null,
      "outputs": [
        {
          "output_type": "stream",
          "text": [
            "['FAKE', 'FAKE', 'FAKE', 'FAKE', 'FAKE', 'FAKE', 'FAKE', 'FAKE', 'FAKE', True]\n"
          ],
          "name": "stdout"
        }
      ]
    },
    {
      "cell_type": "code",
      "metadata": {
        "id": "scgC3b7e6i5H",
        "colab": {
          "base_uri": "https://localhost:8080/",
          "height": 54
        },
        "outputId": "ce4b3274-0647-428e-889d-8a9e6c00403d"
      },
      "source": [
        "claims.Claims.iloc[2]"
      ],
      "execution_count": null,
      "outputs": [
        {
          "output_type": "execute_result",
          "data": {
            "text/plain": [
              "'\"NASA satellite videos LIVE telecast have shown that the Coronavirus is retreating in India thanks to the people\\'s efforts at 5PM on 22 Mar.\" The cosmic level sound waves generated have been detected by NASA\\'s SD13 wave detector and a recently made bio-satellite has shown COVID-19 strain diminishing and weakening!!!'"
            ]
          },
          "metadata": {
            "tags": []
          },
          "execution_count": 20
        }
      ]
    },
    {
      "cell_type": "code",
      "metadata": {
        "id": "dmwOF1ysRbh7"
      },
      "source": [
        "# article_embeddings = model.encode(list(result_df.Article))\n",
        "# summary_embiddings = model.encode(list(result_df.Summary))"
      ],
      "execution_count": null,
      "outputs": []
    },
    {
      "cell_type": "code",
      "metadata": {
        "id": "TeiRBLFK5az1"
      },
      "source": [
        "def article_emdeddings(result_df,a):\n",
        "    for i in a:\n",
        "      if(result_df.Embedding.iloc[i]==None):\n",
        "        result_df.Embedding.iloc[i] = model.encode(list(result_df.Article.iloc[i]))      \n",
        "    # embeddings = model.encode(list(result_df.Article))\n",
        "    # result_df['Embedding'] = embeddings\n",
        "    return result_df\n",
        "\n",
        "def claim_embeddings(claim_df,i):\n",
        "    embeddings = model.encode([claim_df.Claims.iloc[i]])\n",
        "    claim_df[\"Embedding\"].iloc[i] = embeddings\n",
        "    # print(claim_df)\n",
        "    return claim_df"
      ],
      "execution_count": null,
      "outputs": []
    },
    {
      "cell_type": "code",
      "metadata": {
        "id": "jOBB89kMiqlF"
      },
      "source": [
        "# sentences = list(result_df.Article)\n",
        "# sentences = summaries\n",
        "# sentences = ['Hi']\n",
        "# # Each sentence is encoded as a 1-D vector with 78 columns\n",
        "# sentence_embeddings = model.encode(sentences)\n",
        "# print(type(sentence_embeddings))\n",
        "\n",
        "# print('Sample BERT embedding vector - length', len(sentence_embeddings[0]))\n",
        "\n",
        "# print('Sample BERT embedding vector - note includes negative values', sentence_embeddings[0])\n",
        "# print(doc)"
      ],
      "execution_count": null,
      "outputs": []
    },
    {
      "cell_type": "code",
      "metadata": {
        "id": "poTw1PXqTvDa"
      },
      "source": [
        ""
      ],
      "execution_count": null,
      "outputs": []
    }
  ]
}