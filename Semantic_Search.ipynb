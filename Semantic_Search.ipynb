{
  "nbformat": 4,
  "nbformat_minor": 0,
  "metadata": {
    "colab": {
      "name": "Semantic_Search.ipynb",
      "provenance": [],
      "collapsed_sections": [],
      "machine_shape": "hm"
    },
    "kernelspec": {
      "name": "python3",
      "display_name": "Python 3"
    },
    "accelerator": "TPU"
  },
  "cells": [
    {
      "cell_type": "code",
      "metadata": {
        "id": "ysb-wQhG56Bq",
        "colab": {
          "base_uri": "https://localhost:8080/",
          "height": 739
        },
        "outputId": "f9b7245c-cf2e-4a51-83a3-e8d4378aeb18"
      },
      "source": [
        "!pip install sentence-transformers"
      ],
      "execution_count": null,
      "outputs": [
        {
          "output_type": "stream",
          "text": [
            "Collecting sentence-transformers\n",
            "\u001b[?25l  Downloading https://files.pythonhosted.org/packages/b9/46/b7d6c37d92d1bd65319220beabe4df845434930e3f30e42d3cfaecb74dc4/sentence-transformers-0.2.6.1.tar.gz (55kB)\n",
            "\u001b[K     |████████████████████████████████| 61kB 2.2MB/s \n",
            "\u001b[?25hCollecting transformers>=2.8.0\n",
            "\u001b[?25l  Downloading https://files.pythonhosted.org/packages/cd/38/c9527aa055241c66c4d785381eaf6f80a28c224cae97daa1f8b183b5fabb/transformers-2.9.0-py3-none-any.whl (635kB)\n",
            "\u001b[K     |████████████████████████████████| 645kB 8.9MB/s \n",
            "\u001b[?25hRequirement already satisfied: tqdm in /usr/local/lib/python3.6/dist-packages (from sentence-transformers) (4.41.1)\n",
            "Requirement already satisfied: torch>=1.0.1 in /usr/local/lib/python3.6/dist-packages (from sentence-transformers) (1.5.0+cu101)\n",
            "Requirement already satisfied: numpy in /usr/local/lib/python3.6/dist-packages (from sentence-transformers) (1.18.4)\n",
            "Requirement already satisfied: scikit-learn in /usr/local/lib/python3.6/dist-packages (from sentence-transformers) (0.22.2.post1)\n",
            "Requirement already satisfied: scipy in /usr/local/lib/python3.6/dist-packages (from sentence-transformers) (1.4.1)\n",
            "Requirement already satisfied: nltk in /usr/local/lib/python3.6/dist-packages (from sentence-transformers) (3.2.5)\n",
            "Requirement already satisfied: requests in /usr/local/lib/python3.6/dist-packages (from transformers>=2.8.0->sentence-transformers) (2.23.0)\n",
            "Collecting sacremoses\n",
            "\u001b[?25l  Downloading https://files.pythonhosted.org/packages/7d/34/09d19aff26edcc8eb2a01bed8e98f13a1537005d31e95233fd48216eed10/sacremoses-0.0.43.tar.gz (883kB)\n",
            "\u001b[K     |████████████████████████████████| 890kB 19.9MB/s \n",
            "\u001b[?25hCollecting sentencepiece\n",
            "\u001b[?25l  Downloading https://files.pythonhosted.org/packages/3b/88/49e772d686088e1278766ad68a463513642a2a877487decbd691dec02955/sentencepiece-0.1.90-cp36-cp36m-manylinux1_x86_64.whl (1.1MB)\n",
            "\u001b[K     |████████████████████████████████| 1.1MB 25.4MB/s \n",
            "\u001b[?25hRequirement already satisfied: regex!=2019.12.17 in /usr/local/lib/python3.6/dist-packages (from transformers>=2.8.0->sentence-transformers) (2019.12.20)\n",
            "Collecting tokenizers==0.7.0\n",
            "\u001b[?25l  Downloading https://files.pythonhosted.org/packages/14/e5/a26eb4716523808bb0a799fcfdceb6ebf77a18169d9591b2f46a9adb87d9/tokenizers-0.7.0-cp36-cp36m-manylinux1_x86_64.whl (3.8MB)\n",
            "\u001b[K     |████████████████████████████████| 3.8MB 31.1MB/s \n",
            "\u001b[?25hRequirement already satisfied: filelock in /usr/local/lib/python3.6/dist-packages (from transformers>=2.8.0->sentence-transformers) (3.0.12)\n",
            "Requirement already satisfied: dataclasses; python_version < \"3.7\" in /usr/local/lib/python3.6/dist-packages (from transformers>=2.8.0->sentence-transformers) (0.7)\n",
            "Requirement already satisfied: future in /usr/local/lib/python3.6/dist-packages (from torch>=1.0.1->sentence-transformers) (0.16.0)\n",
            "Requirement already satisfied: joblib>=0.11 in /usr/local/lib/python3.6/dist-packages (from scikit-learn->sentence-transformers) (0.14.1)\n",
            "Requirement already satisfied: six in /usr/local/lib/python3.6/dist-packages (from nltk->sentence-transformers) (1.12.0)\n",
            "Requirement already satisfied: idna<3,>=2.5 in /usr/local/lib/python3.6/dist-packages (from requests->transformers>=2.8.0->sentence-transformers) (2.9)\n",
            "Requirement already satisfied: certifi>=2017.4.17 in /usr/local/lib/python3.6/dist-packages (from requests->transformers>=2.8.0->sentence-transformers) (2020.4.5.1)\n",
            "Requirement already satisfied: chardet<4,>=3.0.2 in /usr/local/lib/python3.6/dist-packages (from requests->transformers>=2.8.0->sentence-transformers) (3.0.4)\n",
            "Requirement already satisfied: urllib3!=1.25.0,!=1.25.1,<1.26,>=1.21.1 in /usr/local/lib/python3.6/dist-packages (from requests->transformers>=2.8.0->sentence-transformers) (1.24.3)\n",
            "Requirement already satisfied: click in /usr/local/lib/python3.6/dist-packages (from sacremoses->transformers>=2.8.0->sentence-transformers) (7.1.2)\n",
            "Building wheels for collected packages: sentence-transformers, sacremoses\n",
            "  Building wheel for sentence-transformers (setup.py) ... \u001b[?25l\u001b[?25hdone\n",
            "  Created wheel for sentence-transformers: filename=sentence_transformers-0.2.6.1-cp36-none-any.whl size=74031 sha256=742b8c087c307ef60124432a596e6f9ed541c61372d560313a004ea654c0e99b\n",
            "  Stored in directory: /root/.cache/pip/wheels/d7/fa/17/2b081a8cd8b0a86753fb0e9826b3cc19f0207062c0b2da7008\n",
            "  Building wheel for sacremoses (setup.py) ... \u001b[?25l\u001b[?25hdone\n",
            "  Created wheel for sacremoses: filename=sacremoses-0.0.43-cp36-none-any.whl size=893260 sha256=b474fbbca3a95a131b689ed67475dcb712febdf1a376fa90b6937d0ef041c6c3\n",
            "  Stored in directory: /root/.cache/pip/wheels/29/3c/fd/7ce5c3f0666dab31a50123635e6fb5e19ceb42ce38d4e58f45\n",
            "Successfully built sentence-transformers sacremoses\n",
            "Installing collected packages: sacremoses, sentencepiece, tokenizers, transformers, sentence-transformers\n",
            "Successfully installed sacremoses-0.0.43 sentence-transformers-0.2.6.1 sentencepiece-0.1.90 tokenizers-0.7.0 transformers-2.9.0\n"
          ],
          "name": "stdout"
        }
      ]
    },
    {
      "cell_type": "code",
      "metadata": {
        "id": "18af4Bel9Awe",
        "colab": {
          "base_uri": "https://localhost:8080/",
          "height": 34
        },
        "outputId": "e6d6505d-5665-4396-c9a6-24e226bd47b1"
      },
      "source": [
        "from google.colab import drive\n",
        "drive.mount('/content/drive')"
      ],
      "execution_count": null,
      "outputs": [
        {
          "output_type": "stream",
          "text": [
            "Drive already mounted at /content/drive; to attempt to forcibly remount, call drive.mount(\"/content/drive\", force_remount=True).\n"
          ],
          "name": "stdout"
        }
      ]
    },
    {
      "cell_type": "code",
      "metadata": {
        "id": "UhQKxoJ_8qDf",
        "colab": {
          "base_uri": "https://localhost:8080/",
          "height": 279
        },
        "outputId": "e616908b-0180-493d-9afb-53ca9b327eaf"
      },
      "source": [
        "import pandas as pd\n",
        "# df = pd.read_csv(\"news_17_18_19_20.csv\")\n",
        "df = pd.read_csv(\"/content/drive/My Drive/Colab Notebooks/news_17_18_19_20_21_22_23_24_25.csv\")\n",
        "df.drop(\"Unnamed: 0\",axis=1,inplace=True)\n",
        "df.head()"
      ],
      "execution_count": null,
      "outputs": [
        {
          "output_type": "execute_result",
          "data": {
            "text/html": [
              "<div>\n",
              "<style scoped>\n",
              "    .dataframe tbody tr th:only-of-type {\n",
              "        vertical-align: middle;\n",
              "    }\n",
              "\n",
              "    .dataframe tbody tr th {\n",
              "        vertical-align: top;\n",
              "    }\n",
              "\n",
              "    .dataframe thead th {\n",
              "        text-align: right;\n",
              "    }\n",
              "</style>\n",
              "<table border=\"1\" class=\"dataframe\">\n",
              "  <thead>\n",
              "    <tr style=\"text-align: right;\">\n",
              "      <th></th>\n",
              "      <th>News_Url</th>\n",
              "      <th>Title</th>\n",
              "      <th>Article</th>\n",
              "      <th>Summary</th>\n",
              "      <th>Keywords</th>\n",
              "    </tr>\n",
              "  </thead>\n",
              "  <tbody>\n",
              "    <tr>\n",
              "      <th>0</th>\n",
              "      <td>https://auto.hindustantimes.com/auto/cars/coro...</td>\n",
              "      <td>Coronavirus: This car company is offering zero...</td>\n",
              "      <td>The auto industry has been facing an unprecede...</td>\n",
              "      <td>The company has launched a broad plan to comba...</td>\n",
              "      <td>['group', 'offering', 'plan', 'homes', 'employ...</td>\n",
              "    </tr>\n",
              "    <tr>\n",
              "      <th>1</th>\n",
              "      <td>https://www.healthshots.com/intimate-health/me...</td>\n",
              "      <td>Is it just PMS or are you suffering from Preme...</td>\n",
              "      <td>Updated on:17 March 2020, 15:15pm IST    Ladie...</td>\n",
              "      <td>Updated on:17 March 2020, 15:15pm ISTLadies, t...</td>\n",
              "      <td>['pain', 'disorder', 'dysphoric', 'pms', 'suff...</td>\n",
              "    </tr>\n",
              "    <tr>\n",
              "      <th>2</th>\n",
              "      <td>https://www.healthshots.com/fitness/staying-fi...</td>\n",
              "      <td>These 6 workout mistakes that can lead to a te...</td>\n",
              "      <td>Updated on:17 March 2020, 14:14pm IST    Do yo...</td>\n",
              "      <td>Updated on:17 March 2020, 14:14pm ISTDo your i...</td>\n",
              "      <td>['mistakes', 'khemani', 'workout', 'lead', 'yo...</td>\n",
              "    </tr>\n",
              "    <tr>\n",
              "      <th>3</th>\n",
              "      <td>https://www.healthshots.com/health-news/exposu...</td>\n",
              "      <td>Exposure to tough life events in early life im...</td>\n",
              "      <td>Updated on:17 March 2020, 12:12pm IST    Expos...</td>\n",
              "      <td>If very early in life some of us experience tr...</td>\n",
              "      <td>['health', 'quality', 'problems', 'researchers...</td>\n",
              "    </tr>\n",
              "    <tr>\n",
              "      <th>4</th>\n",
              "      <td>https://www.healthshots.com/health-news/eat-pr...</td>\n",
              "      <td>Eat protein today to reduce muscle loss tomorr...</td>\n",
              "      <td>Published on:17 March 2020, 10:56am IST    Mus...</td>\n",
              "      <td>After the age of 30, bone and muscle loss is v...</td>\n",
              "      <td>['eat', 'study', 'help', 'protein', 'loss', 't...</td>\n",
              "    </tr>\n",
              "  </tbody>\n",
              "</table>\n",
              "</div>"
            ],
            "text/plain": [
              "                                            News_Url  ...                                           Keywords\n",
              "0  https://auto.hindustantimes.com/auto/cars/coro...  ...  ['group', 'offering', 'plan', 'homes', 'employ...\n",
              "1  https://www.healthshots.com/intimate-health/me...  ...  ['pain', 'disorder', 'dysphoric', 'pms', 'suff...\n",
              "2  https://www.healthshots.com/fitness/staying-fi...  ...  ['mistakes', 'khemani', 'workout', 'lead', 'yo...\n",
              "3  https://www.healthshots.com/health-news/exposu...  ...  ['health', 'quality', 'problems', 'researchers...\n",
              "4  https://www.healthshots.com/health-news/eat-pr...  ...  ['eat', 'study', 'help', 'protein', 'loss', 't...\n",
              "\n",
              "[5 rows x 5 columns]"
            ]
          },
          "metadata": {
            "tags": []
          },
          "execution_count": 13
        }
      ]
    },
    {
      "cell_type": "code",
      "metadata": {
        "id": "AlO6HaE27q7Q"
      },
      "source": [
        "import scipy"
      ],
      "execution_count": null,
      "outputs": []
    },
    {
      "cell_type": "code",
      "metadata": {
        "id": "xbDkLVRi6BC4",
        "colab": {
          "base_uri": "https://localhost:8080/",
          "height": 34
        },
        "outputId": "482bb5bb-2021-440f-bbbe-3e88619eb7b0"
      },
      "source": [
        "from sentence_transformers import SentenceTransformer\n",
        "\n",
        "# Load the BERT model. Various models trained on Natural Language Inference (NLI) https://github.com/UKPLab/sentence-transformers/blob/master/docs/pretrained-models/nli-models.md and \n",
        "# Semantic Textual Similarity are available https://github.com/UKPLab/sentence-transformers/blob/master/docs/pretrained-models/sts-models.md\n",
        "\n",
        "model = SentenceTransformer('bert-large-nli-stsb-mean-tokens')\n",
        "# model = SentenceTransformer('roberta-large-nli-stsb-mean-tokens')"
      ],
      "execution_count": null,
      "outputs": [
        {
          "output_type": "stream",
          "text": [
            "100%|██████████| 1.24G/1.24G [01:11<00:00, 17.4MB/s]\n"
          ],
          "name": "stderr"
        }
      ]
    },
    {
      "cell_type": "code",
      "metadata": {
        "id": "Z4wUHWFVD2Gl",
        "colab": {
          "base_uri": "https://localhost:8080/",
          "height": 33
        },
        "outputId": "74777766-0441-46a1-aec1-1142ac5e977e"
      },
      "source": [
        "df.shape"
      ],
      "execution_count": null,
      "outputs": [
        {
          "output_type": "execute_result",
          "data": {
            "text/plain": [
              "(2123, 5)"
            ]
          },
          "metadata": {
            "tags": []
          },
          "execution_count": 8
        }
      ]
    },
    {
      "cell_type": "code",
      "metadata": {
        "id": "6pUrWTjU-eCK",
        "colab": {
          "base_uri": "https://localhost:8080/",
          "height": 117
        },
        "outputId": "d3166014-0193-4ac9-cf8a-09898cb7d178"
      },
      "source": [
        "# summaries = list(df.Summary)\n",
        "# for i in summaries:\n",
        "#   if(not isinstance(i,str)):\n",
        "#     print((i))\n",
        "# df.dropna(0,inplace=True)\n",
        "# df.isnull().sum()"
      ],
      "execution_count": null,
      "outputs": [
        {
          "output_type": "execute_result",
          "data": {
            "text/plain": [
              "News_Url    0\n",
              "Title       0\n",
              "Article     0\n",
              "Summary     0\n",
              "Keywords    0\n",
              "dtype: int64"
            ]
          },
          "metadata": {
            "tags": []
          },
          "execution_count": 35
        }
      ]
    },
    {
      "cell_type": "code",
      "metadata": {
        "id": "OvQoFvx1eVK1"
      },
      "source": [
        "from gensim.summarization import summarize\n",
        "from gensim.summarization import keywords"
      ],
      "execution_count": null,
      "outputs": []
    },
    {
      "cell_type": "code",
      "metadata": {
        "id": "yODp4SVniwo4",
        "colab": {
          "base_uri": "https://localhost:8080/",
          "height": 134
        },
        "outputId": "f3eb8abb-cc16-4061-aa07-3d93217ea413"
      },
      "source": [
        "doc = \"\"\"Central Railway \n",
        "Press Release\n",
        "\n",
        "Trains cancelled due to #COVID19 preventive measure and non-occupancy\n",
        "\n",
        "Central Railway has cancelled trains to contain the effects of corona virus and non-occupancy of trains.  The details are as under:\n",
        "\n",
        "1)\t11007 Mumbai-Pune Deccan Express from 19.3.2020 to 31.3.2020\n",
        "2)\t11008 Pune-Mumbai Deccan Express from 18.3.2020 to 30.3.2020\n",
        "3)\t11201 LTT-Ajni Express on 23.3.2020 and 30.3.2020\n",
        "4)\t11202 Ajni-LTT Express on 20.3.2020 and 27.3.2020\n",
        "5)\t11205 LTT-Nizamabad Express on 21.3.2020 and 28.3.2020\n",
        "6)\t11206 Nizamabad-LTT Express on 22.3.2020 and 29.3.2020\n",
        "7)\t22135/22136 Nagpur-Rewa Express on 25.3.2020\n",
        "8)\t11401 Mumbai-Nagpur Nandigram Express from 23.3.2020 to 1.4.2020\n",
        "9)\t11402 Nagpur-Mumbai Nandigram Express from 22.3.2020 to 31.3.2020\n",
        "10)\t11417 Pune-Nagpur Express on 26.3.2020 and 2.4.2020\n",
        "11)\t11418 Nagpur-Pune Express on 20.3.2020 and 27.3.2020\n",
        "12)\t22139 Pune-Ajni Express on 21.3.2020 and 28.3.2020\n",
        "13)\t22140 Ajni-Pune Express on 22.3.2020 and 29.3.2020\n",
        "14)\t12117/12118 LTT-Manmad Express from 18.3.2020 to 31.3.2020\n",
        "15)\t12125 Mumbai-Pune Pragati Express from 18.3.2020 to 31.3.2020\n",
        "16)\t12126 Pune-Mumbai Pragati Express from 19.3.2020 to 1.4.2020\n",
        "17)\t22111 Bhusaval-Nagpur Express from 18.3.2020 to 29.3.2020\n",
        "18)\t22112 Nagpur-Bhusaval Express from 19.3.2020 to 30.3.2020\n",
        "19)\t11307/11308 Kalaburagi-Secunderabad Express from 18.3.2020 to 31.3.2020\n",
        "20)\t12262 Howrah-Mumbai Duranto Express on 24.3.2020 and 31.3.2020\n",
        "21)\t12261 Mumbai-Howrah Duranto Express on 25.3.2020 and 1.4.2020\n",
        "22)\t22221 CSMT-Nizamuddin Rajdhani Express on 20, 23, 27 and 30.3.2020\n",
        "23)\t22222 Nizamuddin-CSMT Rajdhani Express on 21, 24, 26 and 31.3.2020\n",
        "--- ---\n",
        "Date: March 17, 2020\n",
        "2020/03/29\n",
        "This press release is issued by Public Relations Department, Central Railway, Chhatrapati Shivaji Maharaj Terminus Mumbai\"\"\"\n",
        "\n",
        "summary = summarize(doc)\n",
        "key = keywords(doc).split(\"\\n\")\n",
        "print(summary)\n",
        "print(key)\n",
        "# key"
      ],
      "execution_count": null,
      "outputs": [
        {
          "output_type": "stream",
          "text": [
            "2)\t11008 Pune-Mumbai Deccan Express from 18.3.2020 to 30.3.2020\n",
            "2)\t11008 Pune-Mumbai Deccan Express from 18.3.2020 to 30.3.2020\n",
            "9)\t11402 Nagpur-Mumbai Nandigram Express from 22.3.2020 to 31.3.2020\n",
            "9)\t11402 Nagpur-Mumbai Nandigram Express from 22.3.2020 to 31.3.2020\n",
            "11)\t11418 Nagpur-Pune Express on 20.3.2020 and 27.3.2020\n",
            "11)\t11418 Nagpur-Pune Express on 20.3.2020 and 27.3.2020\n",
            "['express', 'mumbai', 'nagpur', 'pune', 'preventive', 'central', 'railway', 'trains']\n"
          ],
          "name": "stdout"
        }
      ]
    },
    {
      "cell_type": "code",
      "metadata": {
        "id": "j_REkBowcpBm"
      },
      "source": [
        "# df[df.duplicated(subset=\"Article\")!=False]\n",
        "# df.drop_duplicates(subset=\"Article\",inplace=True)"
      ],
      "execution_count": null,
      "outputs": []
    },
    {
      "cell_type": "code",
      "metadata": {
        "id": "73gLX7Rxi-54",
        "colab": {
          "base_uri": "https://localhost:8080/",
          "height": 53
        },
        "outputId": "8de311c6-8a72-4f98-8a80-94b8d48780f9"
      },
      "source": [
        "a = []\n",
        "count = []\n",
        "for i in range(len(df)):\n",
        "  count = 0\n",
        "  for j in key:\n",
        "    count += df.Keywords.iloc[i].count(j)\n",
        "  if(count>1):\n",
        "    a.append(i)\n",
        "result_df = pd.DataFrame(columns=df.columns)\n",
        "print(a)\n",
        "for i in set(a):\n",
        "  result_df = result_df.append(df.iloc[i])"
      ],
      "execution_count": null,
      "outputs": [
        {
          "output_type": "stream",
          "text": [
            "[293, 310, 348, 360, 369, 387, 389, 437, 498, 562, 571, 576, 584, 589, 592, 643, 703, 774, 820, 949, 951, 1076, 1088, 1089, 1217, 1316, 1369, 1457, 1512, 1528, 1611, 1656, 1659, 1664, 1789, 1865, 1867, 1868, 1869, 1926, 1928, 1983, 2021, 2049, 2058, 2113]\n"
          ],
          "name": "stdout"
        }
      ]
    },
    {
      "cell_type": "code",
      "metadata": {
        "id": "ZI18zNvnd3p9",
        "colab": {
          "base_uri": "https://localhost:8080/",
          "height": 33
        },
        "outputId": "2e27cc79-8ec4-42ad-fcdd-da5234550468"
      },
      "source": [
        "# len(result_df.Article)"
      ],
      "execution_count": null,
      "outputs": [
        {
          "output_type": "execute_result",
          "data": {
            "text/plain": [
              "46"
            ]
          },
          "metadata": {
            "tags": []
          },
          "execution_count": 23
        }
      ]
    },
    {
      "cell_type": "code",
      "metadata": {
        "id": "Ci_JM8VG6Oo9"
      },
      "source": [
        "# A corpus is a list with documents split by sentences.\n",
        "\n",
        "# doc = [\"NOTE: Important msg from Kerala police to all over India: For the next few weeks do not drink any product of Frooti, as a worker from the company in the Kerala factory has added his blood contaminated with Coronavirus . It was shown yesterday on NDTV… Pls forward this msg urgently to people you care… Take Care!!\"]\n",
        "# sentences = ['Absence of sanity', \n",
        "#              'Lack of saneness',\n",
        "#              'A man is eating food.',\n",
        "#              'A man is eating a piece of bread.',\n",
        "#              'The girl is carrying a baby.',\n",
        "#              'A man is riding a horse.',\n",
        "#              'A woman is playing violin.',\n",
        "#              'Two men pushed carts through the woods.',\n",
        "#              'A man is riding a white horse on an enclosed ground.',\n",
        "#              'A monkey is playing drums.',\n",
        "#              'A cheetah is running behind its prey.']\n",
        "sentences = list(result_df.Article)\n",
        "# sentences = summaries\n",
        "\n",
        "# Each sentence is encoded as a 1-D vector with 78 columns\n",
        "sentence_embeddings = model.encode(sentences)\n",
        "\n",
        "# print('Sample BERT embedding vector - length', len(sentence_embeddings[0]))\n",
        "\n",
        "# print('Sample BERT embedding vector - note includes negative values', sentence_embeddings[0])\n",
        "# print(doc)"
      ],
      "execution_count": null,
      "outputs": []
    },
    {
      "cell_type": "code",
      "metadata": {
        "id": "pb4FwnhZUr7d"
      },
      "source": [
        "from sklearn.metrics.pairwise import cosine_distances,manhattan_distances,paired_cosine_distances\n",
        "from sklearn.metrics.pairwise import euclidean_distances\n",
        "import numpy as np"
      ],
      "execution_count": null,
      "outputs": []
    },
    {
      "cell_type": "code",
      "metadata": {
        "id": "fFJUCGuk7Trw",
        "colab": {
          "base_uri": "https://localhost:8080/",
          "height": 288
        },
        "outputId": "2941acf8-f236-4dad-980c-401bad0a93bb"
      },
      "source": [
        "#@title Sematic Search Form\n",
        "\n",
        "# code adapted from https://github.com/UKPLab/sentence-transformers/blob/master/examples/application_semantic_search.py\n",
        "\n",
        "query = 'Nobody has sane thoughts' #@param {type: 'string'}\n",
        "# doc = \"Shah Rukh Khan is a college student, whose girlfriend is touring China. She gets infected with coronavirus & has been quarantined in a high security hospital in China. When the hero hears this, he consults a local baba, who gives a special medicine, which is nothing  but _Hindustan ki mitti_ - soil of India. The hero now faces several hurdles while trying to deliver this medicine to his sweetheart, like breaching the border as there is travel restriction, extreme security at the hospital & a villain trying to sabotage the mission by replacing the medicine with 'Pakistan ki mitti'. How the hero accomplishes his mission is rest of the story.\\\n",
        "# The title of the movie is: ...\\\n",
        "# CORONA PYAR HAI\"\n",
        "# print(doc)\n",
        "queries = [doc]\n",
        "query_embeddings = model.encode(queries)\n",
        "\n",
        "# Find the closest 3 sentences of the corpus for each query sentence based on cosine similarity\n",
        "number_top_matches =  3#@param {type: \"number\"}\n",
        "\n",
        "print(\"Semantic Search Results\")\n",
        "\n",
        "\n",
        "for query, query_embedding in zip(queries, query_embeddings):\n",
        "    # distances = scipy.spatial.distance.cdist([query_embedding], sentence_embeddings, \"cosine\")[0]\n",
        "    distances = cosine_distances([query_embedding], sentence_embeddings)[0]\n",
        "    results = zip(range(len(distances)), distances)\n",
        "    results = sorted(results, key=lambda x: x[1])\n",
        "\n",
        "    print(\"\\n\\n======================\\n\\n\")\n",
        "    # print(\"Query:\", query)\n",
        "    print(\"\\nTop 3 most similar sentences in corpus:\")\n",
        "\n",
        "    final = {}\n",
        "    for idx, distance in results[0:number_top_matches]:\n",
        "        final[sentences[idx]] = float(1-distance)\n",
        "        print(sentences[idx].strip(), \"\\n(Cosine Score: %.4f)\" % (1-distance))\n",
        "\n",
        "scores = list(final.values())\n",
        "if(round(np.mean(scores)*100,2)>70):\n",
        "  print(\"The Article is True\")\n",
        "else:\n",
        "  print(\"The Article is False\")"
      ],
      "execution_count": null,
      "outputs": [
        {
          "output_type": "stream",
          "text": [
            "Semantic Search Results\n",
            "\n",
            "\n",
            "======================\n",
            "\n",
            "\n",
            "\n",
            "Top 3 most similar sentences in corpus:\n",
            "The Indian Railways had cancelled 99 trains on Wednesday night. (Express File Photo) The Indian Railways had cancelled 99 trains on Wednesday night. (Express File Photo)    In view of the coronavirus pandemic, all concessions in Indian Railways have been suspended for now, except concessions to students, patients and disabled, to discourage inessential travel. This means that all other train concessions, like senior citizens, farmers, war widows, VIPs, delegates, etc. stand suspended for now.    Earlier in the day, the officials said that the Railways had cancelled 84 more trains between March 20 to March 31. This takes the number of trains cancelled to 155.    WATCH | PM Modi appeals for ‘janata curfew’    “All passengers having tickets in cancelled trains are being informed about it individually. No cancellation fee will be taken for these trains. Passengers will get 100-per cent refund,” an official said. Follow Coronavirus outbreak LIVE updates    Indian Railways has cancelled 168 trains due to low occupancy in view of COVID19, from 20th March to 31st March. #Coronavirus pic.twitter.com/PHaQxCj2Wy — ANI (@ANI) March 19, 2020    Some of the trains cancelled are Pune-Jabalpur Special, Madgaon Express, LTT Nanded Express, Tadoba Express, New Delhi-Jabalpur Shridham Super Fast Express, Mumbai-Aurangabad Jan Shatabdi Express, Anand Vihar Terminal Gorakhpur Humsafar Express, Indore-Khajuraho Express, among others.    The Indian Railways had cancelled 99 trains on Wednesday night. The Western Central Railway and Northern Railway cancelled 11 trains each, while the South Central Railway and Northeast Frontier Railway cancelled 20 trains each on Wednesday. 32 trains were cancelled from Southern Railway, and five were cancelled from East Central Railway.    On Tuesday, the Railways had issued a set of guidelines to zonal railways for its catering staff stating no employee having fever, cough, runny nose or difficulty in breathing “should be deployed in the business of food handling on the Indian Railways”.    As a precautionary measure, most railway zones also increased the prices of their platform tickets to discourage large crowds.    The Western Railway (WR) and Central Railway (CR) witnessed a drop in their passengers. Passengers on WR dropped by around eight lakh to 32.26 lakh on Tuesday, as compared to 40.75 lakh who travelled in trains on Monday. Similarly, CR saw a drop of about 10 lakh passengers, with 39 lakh travelling on Tuesday, as against 49 lakh on Monday.    Chief PRO of CR, Shivaji Sutar said, “We urge passengers to travel only in case of emergency. We have been carrying out various awareness drives for the same. The cost of platform tickets has also been increased to work as a deterrent.”    📣 The Indian Express is now on Telegram. Click here to join our channel (@indianexpress) and stay updated with the latest headlines    For all the latest Coronavirus Outbreak News, download Indian Express App.    © IE Online Media Services Pvt Ltd \n",
            "(Cosine Score: 0.7629)\n",
            "A man and his son seen wearing masks Tuesday. (Photo: Prashant Nadkar) A man and his son seen wearing masks Tuesday. (Photo: Prashant Nadkar)    With a drop in occupancy on trains, both Central and Western Railway on Tuesday announced cancellations of several pairs of long distance trains on various intercity routes. CR cancelled 23 trains, while WR cancelled 10 until March 31 to restrict passenger movement as a precaution to curtail COVID-19.    Trains cancelled by CR include Deccan Express and Pragati Express on the Mumbai-Pune routes, as well as Nizamuddin-CSMT Rajdhani, plying between Mumbai and Delhi. Various passenger associations said this move will inconvenience passengers, while also pointing out that travel has not been fully curtailed, with several alternative trains available on the same route.    Nitin Parmar, a Zonal Railway Users Consultative Committee (ZRUCC) member said, “Despite two trains being cancelled on the Mumbai-Pune routes, there are various others available on the same route, such as Deccan Queen and Indrayani, among others. Those who have to travel can adjust to these trains.” He added that in the past two weeks, there has been a drop in the passengers travelling in the trains.    Similarly, WR cancelled 10 trains, including three pairs of Duranto to Delhi, Jaipur and Indore, along with Humsafar Express, heading from Mumbai to Jamnagar and Puri. A senior WR officer said, “The trains which had an occupancy of less than 20 per cent have been cancelled. We are looking at other trains and depending on further review will cancel more.”    According to Kamlesh Shah, former ZRUCC member, abrupt cancellations will cause inconvenience to those who had made plans, but these measures will help in containing the spread of the virus.    Apart from cancellation of long distance trains, the Maharashtra State Road Transport Corporation (MSRTC) cancelled 9,262 trips across the state on March 16, while between March 11 and 16, a total of 20,957 trips were cancelled.    On March 16 alone, about 348 trips between Mumbai, Pune and Aurangabad on their premium shivneri routes were cancelled as well. Officials from MSRTC attributed the cancellation to poor response from passengers and to restrict passenger movement.    📣 The Indian Express is now on Telegram. Click here to join our channel (@indianexpress) and stay updated with the latest headlines    For all the latest India News, download Indian Express App. \n",
            "(Cosine Score: 0.7204)\n",
            "Mumbai (Maharashtra) [India], Mar 19 (ANI): The famous 'Dabbawalas' of Mumbai have decided to suspend their services from March 20 to March 31 in wake of coronavirus pandemic.    \"Maharashtra Chief Minister Uddhav Thackeray appealed to the people to avoid large gatherings and crowds and in accordance to his advisory, the dabbawala facility will be suspended from March 20 to March 31,\" Subhash Talekar, Dabbawala Association president told ANI.    \"The schools in Mumbai already closed and at least 50 percent offices have been down. Thus by suspending the services our the business will not suffer much,\" he added.    Earlier today, the number of positive cases in the State of Maharashtra rose to 49 making it the worst-hit state by COVID-19. So far, only one person was reported dead in the state.    India reported 13 fresh cases of coronavirus, taking the tally to 169 in the country.    According to official data provided by the Ministry of Health, as many as 15 people infected with the virus have been discharged after receiving treatment.    No fatality has been reported in the last 24 hours in the country. Three people have so far died of the infection in the country. (ANI) \n",
            "(Cosine Score: 0.7004)\n",
            "The Article is True\n"
          ],
          "name": "stdout"
        }
      ]
    },
    {
      "cell_type": "code",
      "metadata": {
        "id": "kveJ8YeZHZTb",
        "colab": {
          "base_uri": "https://localhost:8080/",
          "height": 53
        },
        "outputId": "b9e291b7-30fa-4336-9e8a-0f39e224edde"
      },
      "source": [
        "doc"
      ],
      "execution_count": null,
      "outputs": [
        {
          "output_type": "execute_result",
          "data": {
            "text/plain": [
              "'Central Railway \\nPress Release\\n\\nTrains cancelled due to #COVID19 preventive measure and non-occupancy\\n\\nCentral Railway has cancelled trains to contain the effects of corona virus and non-occupancy of trains.  The details are as under:\\n\\n1)\\t11007 Mumbai-Pune Deccan Express from 19.3.2020 to 31.3.2020\\n2)\\t11008 Pune-Mumbai Deccan Express from 18.3.2020 to 30.3.2020\\n3)\\t11201 LTT-Ajni Express on 23.3.2020 and 30.3.2020\\n4)\\t11202 Ajni-LTT Express on 20.3.2020 and 27.3.2020\\n5)\\t11205 LTT-Nizamabad Express on 21.3.2020 and 28.3.2020\\n6)\\t11206 Nizamabad-LTT Express on 22.3.2020 and 29.3.2020\\n7)\\t22135/22136 Nagpur-Rewa Express on 25.3.2020\\n8)\\t11401 Mumbai-Nagpur Nandigram Express from 23.3.2020 to 1.4.2020\\n9)\\t11402 Nagpur-Mumbai Nandigram Express from 22.3.2020 to 31.3.2020\\n10)\\t11417 Pune-Nagpur Express on 26.3.2020 and 2.4.2020\\n11)\\t11418 Nagpur-Pune Express on 20.3.2020 and 27.3.2020\\n12)\\t22139 Pune-Ajni Express on 21.3.2020 and 28.3.2020\\n13)\\t22140 Ajni-Pune Express on 22.3.2020 and 29.3.2020\\n14)\\t12117/12118 LTT-Manmad Express from 18.3.2020 to 31.3.2020\\n15)\\t12125 Mumbai-Pune Pragati Express from 18.3.2020 to 31.3.2020\\n16)\\t12126 Pune-Mumbai Pragati Express from 19.3.2020 to 1.4.2020\\n17)\\t22111 Bhusaval-Nagpur Express from 18.3.2020 to 29.3.2020\\n18)\\t22112 Nagpur-Bhusaval Express from 19.3.2020 to 30.3.2020\\n19)\\t11307/11308 Kalaburagi-Secunderabad Express from 18.3.2020 to 31.3.2020\\n20)\\t12262 Howrah-Mumbai Duranto Express on 24.3.2020 and 31.3.2020\\n21)\\t12261 Mumbai-Howrah Duranto Express on 25.3.2020 and 1.4.2020\\n22)\\t22221 CSMT-Nizamuddin Rajdhani Express on 20, 23, 27 and 30.3.2020\\n23)\\t22222 Nizamuddin-CSMT Rajdhani Express on 21, 24, 26 and 31.3.2020\\n--- ---\\nDate: March 17, 2020\\n2020/03/29\\nThis press release is issued by Public Relations Department, Central Railway, Chhatrapati Shivaji Maharaj Terminus Mumbai'"
            ]
          },
          "metadata": {
            "tags": []
          },
          "execution_count": 28
        }
      ]
    },
    {
      "cell_type": "code",
      "metadata": {
        "id": "HTt3y3yAgA-t"
      },
      "source": [
        "article_embeddings = model.encode(list(result_df.Article))\n",
        "summary_embiddings = model.encode(list(result_df.Summary))"
      ],
      "execution_count": null,
      "outputs": []
    },
    {
      "cell_type": "code",
      "metadata": {
        "id": "U5Uvns9dowpb",
        "colab": {
          "base_uri": "https://localhost:8080/",
          "height": 237
        },
        "outputId": "5f1b4d38-7346-404c-f693-25cbab38e3f1"
      },
      "source": [
        "#@title Sematic Search Form\n",
        "query = 'Nobody has sane thoughts' #@param {type: 'string'}\n",
        "article_query = [doc]\n",
        "summary_query = [summary]\n",
        "article_query_embeddings = model.encode(article_query)\n",
        "summary_query_embeddings = model.encode(summary_query)\n",
        "number_top_matches =  3#@param {type: \"number\"}\n",
        "\n",
        "queries = [article_query,summary_query]\n",
        "query_embeddings = [article_query_embeddings,summary_query_embeddings]\n",
        "\n",
        "# for query, query_embedding in zip(article_query, article_query_embeddings):\n",
        "distances = cosine_distances(article_query_embeddings,article_embeddings )[0]\n",
        "results = zip(range(len(distances)), distances)\n",
        "results = sorted(results, key=lambda x: x[1])\n",
        "final = {}\n",
        "for idx, distance in results[0:number_top_matches]:\n",
        "    final[sentences[idx]] = float(1-distance)\n",
        "    print(sentences[idx].strip(), \"\\n(Cosine Score: %.4f)\" % (1-distance))\n",
        "\n",
        "# for query, query_embedding in zip(summary_query, summary_query_embeddings):\n",
        "distances = cosine_distances(summary_query_embeddings,summary_embiddings )[0]\n",
        "results = zip(range(len(distances)), distances)\n",
        "results = sorted(results, key=lambda x: x[1])\n",
        "final = {}\n",
        "for idx, distance in results[0:number_top_matches]:\n",
        "    final[sentences[idx]] = float(1-distance)\n",
        "    print(sentences[idx].strip(), \"\\n(Cosine Score: %.4f)\" % (1-distance))\n",
        "\n",
        "# scores = list(final.values())\n",
        "# if(round(np.mean(scores)*100,2)>70):\n",
        "#   print(\"The Article is True\")\n",
        "# else:\n",
        "#   print(\"The Article is False\")"
      ],
      "execution_count": null,
      "outputs": [
        {
          "output_type": "stream",
          "text": [
            "Bhubaneswar (Odisha) [India], Mar 19 (ANI): The East Coast Railway (EoCR) on Wednesday cancelled five pairs of trains (a total of 10 trains) and appealed to passengers to avoid non-essential travel due to the pandemic coronavirus.    \"Due to Poor Patronisation, five pairs ( 10 trains) of trains running from various places over East Coast Railway have been cancelled,\" EoCR said in a statement.    A disinfection drive was also carried out at the Bhubaneswar Coaching Depot in Odisha as a precautionary measure against the spread of the virus.    According to the East Coast Railway (ECR) regular- analysis of the passenger ticket bookings is being done and more number of trains may be cancelled if required.    The cancelled trains include Puri-Howrah Bi-weekly Garib Rath Express from Puri, Howrah-Puri Bi-weekly Garib Rath Express from Howrah, Bhubaneswar-Dhanbad Tri-weekly Garib Rath Express from Bhubaneswar, Dhanbad-Bhubaneswar Garib Rath Express from Dhanbad, Bhubaneswar-New Delhi Duronto Express from Bhubaneswar, New Delhi-Bhubaneswar Duronto Express from New Delhi, Puri-Howrah Shatabdi Express from Puri, Howrah-Puri Shatabdi Express from Howrah, Tirupati-Visakhapatnam Express from Tirupati and Visakhapatnam-Tirupati Express from Visakhapatnam.    \"Till now, one positive coronavirus case has been reported in Odisha. The person is doing well hopefully he will recover soon. Contacts of the case have been traced and advised home isolation,\" said Subroto Bagchi, Chief Spokesperson of Odisha Government.    According to official data, there has been one confirmed case of coronavirus in Odisha. The total number of confirmed cases of COVID infections climbed to 169. (ANI) \n",
            "(Cosine Score: 0.6895)\n",
            "The Indian Railways had cancelled 99 trains on Wednesday night. (Express File Photo) The Indian Railways had cancelled 99 trains on Wednesday night. (Express File Photo)    In view of the coronavirus pandemic, all concessions in Indian Railways have been suspended for now, except concessions to students, patients and disabled, to discourage inessential travel. This means that all other train concessions, like senior citizens, farmers, war widows, VIPs, delegates, etc. stand suspended for now.    Earlier in the day, the officials said that the Railways had cancelled 84 more trains between March 20 to March 31. This takes the number of trains cancelled to 155.    WATCH | PM Modi appeals for ‘janata curfew’    “All passengers having tickets in cancelled trains are being informed about it individually. No cancellation fee will be taken for these trains. Passengers will get 100-per cent refund,” an official said. Follow Coronavirus outbreak LIVE updates    Indian Railways has cancelled 168 trains due to low occupancy in view of COVID19, from 20th March to 31st March. #Coronavirus pic.twitter.com/PHaQxCj2Wy — ANI (@ANI) March 19, 2020    Some of the trains cancelled are Pune-Jabalpur Special, Madgaon Express, LTT Nanded Express, Tadoba Express, New Delhi-Jabalpur Shridham Super Fast Express, Mumbai-Aurangabad Jan Shatabdi Express, Anand Vihar Terminal Gorakhpur Humsafar Express, Indore-Khajuraho Express, among others.    The Indian Railways had cancelled 99 trains on Wednesday night. The Western Central Railway and Northern Railway cancelled 11 trains each, while the South Central Railway and Northeast Frontier Railway cancelled 20 trains each on Wednesday. 32 trains were cancelled from Southern Railway, and five were cancelled from East Central Railway.    On Tuesday, the Railways had issued a set of guidelines to zonal railways for its catering staff stating no employee having fever, cough, runny nose or difficulty in breathing “should be deployed in the business of food handling on the Indian Railways”.    As a precautionary measure, most railway zones also increased the prices of their platform tickets to discourage large crowds.    The Western Railway (WR) and Central Railway (CR) witnessed a drop in their passengers. Passengers on WR dropped by around eight lakh to 32.26 lakh on Tuesday, as compared to 40.75 lakh who travelled in trains on Monday. Similarly, CR saw a drop of about 10 lakh passengers, with 39 lakh travelling on Tuesday, as against 49 lakh on Monday.    Chief PRO of CR, Shivaji Sutar said, “We urge passengers to travel only in case of emergency. We have been carrying out various awareness drives for the same. The cost of platform tickets has also been increased to work as a deterrent.”    📣 The Indian Express is now on Telegram. Click here to join our channel (@indianexpress) and stay updated with the latest headlines    For all the latest Coronavirus Outbreak News, download Indian Express App.    © IE Online Media Services Pvt Ltd \n",
            "(Cosine Score: 0.6749)\n",
            "A man and his son seen wearing masks Tuesday. (Photo: Prashant Nadkar) A man and his son seen wearing masks Tuesday. (Photo: Prashant Nadkar)    With a drop in occupancy on trains, both Central and Western Railway on Tuesday announced cancellations of several pairs of long distance trains on various intercity routes. CR cancelled 23 trains, while WR cancelled 10 until March 31 to restrict passenger movement as a precaution to curtail COVID-19.    Trains cancelled by CR include Deccan Express and Pragati Express on the Mumbai-Pune routes, as well as Nizamuddin-CSMT Rajdhani, plying between Mumbai and Delhi. Various passenger associations said this move will inconvenience passengers, while also pointing out that travel has not been fully curtailed, with several alternative trains available on the same route.    Nitin Parmar, a Zonal Railway Users Consultative Committee (ZRUCC) member said, “Despite two trains being cancelled on the Mumbai-Pune routes, there are various others available on the same route, such as Deccan Queen and Indrayani, among others. Those who have to travel can adjust to these trains.” He added that in the past two weeks, there has been a drop in the passengers travelling in the trains.    Similarly, WR cancelled 10 trains, including three pairs of Duranto to Delhi, Jaipur and Indore, along with Humsafar Express, heading from Mumbai to Jamnagar and Puri. A senior WR officer said, “The trains which had an occupancy of less than 20 per cent have been cancelled. We are looking at other trains and depending on further review will cancel more.”    According to Kamlesh Shah, former ZRUCC member, abrupt cancellations will cause inconvenience to those who had made plans, but these measures will help in containing the spread of the virus.    Apart from cancellation of long distance trains, the Maharashtra State Road Transport Corporation (MSRTC) cancelled 9,262 trips across the state on March 16, while between March 11 and 16, a total of 20,957 trips were cancelled.    On March 16 alone, about 348 trips between Mumbai, Pune and Aurangabad on their premium shivneri routes were cancelled as well. Officials from MSRTC attributed the cancellation to poor response from passengers and to restrict passenger movement.    📣 The Indian Express is now on Telegram. Click here to join our channel (@indianexpress) and stay updated with the latest headlines    For all the latest India News, download Indian Express App. \n",
            "(Cosine Score: 0.6555)\n",
            "A man and his son seen wearing masks Tuesday. (Photo: Prashant Nadkar) A man and his son seen wearing masks Tuesday. (Photo: Prashant Nadkar)    With a drop in occupancy on trains, both Central and Western Railway on Tuesday announced cancellations of several pairs of long distance trains on various intercity routes. CR cancelled 23 trains, while WR cancelled 10 until March 31 to restrict passenger movement as a precaution to curtail COVID-19.    Trains cancelled by CR include Deccan Express and Pragati Express on the Mumbai-Pune routes, as well as Nizamuddin-CSMT Rajdhani, plying between Mumbai and Delhi. Various passenger associations said this move will inconvenience passengers, while also pointing out that travel has not been fully curtailed, with several alternative trains available on the same route.    Nitin Parmar, a Zonal Railway Users Consultative Committee (ZRUCC) member said, “Despite two trains being cancelled on the Mumbai-Pune routes, there are various others available on the same route, such as Deccan Queen and Indrayani, among others. Those who have to travel can adjust to these trains.” He added that in the past two weeks, there has been a drop in the passengers travelling in the trains.    Similarly, WR cancelled 10 trains, including three pairs of Duranto to Delhi, Jaipur and Indore, along with Humsafar Express, heading from Mumbai to Jamnagar and Puri. A senior WR officer said, “The trains which had an occupancy of less than 20 per cent have been cancelled. We are looking at other trains and depending on further review will cancel more.”    According to Kamlesh Shah, former ZRUCC member, abrupt cancellations will cause inconvenience to those who had made plans, but these measures will help in containing the spread of the virus.    Apart from cancellation of long distance trains, the Maharashtra State Road Transport Corporation (MSRTC) cancelled 9,262 trips across the state on March 16, while between March 11 and 16, a total of 20,957 trips were cancelled.    On March 16 alone, about 348 trips between Mumbai, Pune and Aurangabad on their premium shivneri routes were cancelled as well. Officials from MSRTC attributed the cancellation to poor response from passengers and to restrict passenger movement.    📣 The Indian Express is now on Telegram. Click here to join our channel (@indianexpress) and stay updated with the latest headlines    For all the latest India News, download Indian Express App. \n",
            "(Cosine Score: 0.3780)\n",
            "The Indian Railways had cancelled 99 trains on Wednesday night. (Express File Photo) The Indian Railways had cancelled 99 trains on Wednesday night. (Express File Photo)    In view of the coronavirus pandemic, all concessions in Indian Railways have been suspended for now, except concessions to students, patients and disabled, to discourage inessential travel. This means that all other train concessions, like senior citizens, farmers, war widows, VIPs, delegates, etc. stand suspended for now.    Earlier in the day, the officials said that the Railways had cancelled 84 more trains between March 20 to March 31. This takes the number of trains cancelled to 155.    WATCH | PM Modi appeals for ‘janata curfew’    “All passengers having tickets in cancelled trains are being informed about it individually. No cancellation fee will be taken for these trains. Passengers will get 100-per cent refund,” an official said. Follow Coronavirus outbreak LIVE updates    Indian Railways has cancelled 168 trains due to low occupancy in view of COVID19, from 20th March to 31st March. #Coronavirus pic.twitter.com/PHaQxCj2Wy — ANI (@ANI) March 19, 2020    Some of the trains cancelled are Pune-Jabalpur Special, Madgaon Express, LTT Nanded Express, Tadoba Express, New Delhi-Jabalpur Shridham Super Fast Express, Mumbai-Aurangabad Jan Shatabdi Express, Anand Vihar Terminal Gorakhpur Humsafar Express, Indore-Khajuraho Express, among others.    The Indian Railways had cancelled 99 trains on Wednesday night. The Western Central Railway and Northern Railway cancelled 11 trains each, while the South Central Railway and Northeast Frontier Railway cancelled 20 trains each on Wednesday. 32 trains were cancelled from Southern Railway, and five were cancelled from East Central Railway.    On Tuesday, the Railways had issued a set of guidelines to zonal railways for its catering staff stating no employee having fever, cough, runny nose or difficulty in breathing “should be deployed in the business of food handling on the Indian Railways”.    As a precautionary measure, most railway zones also increased the prices of their platform tickets to discourage large crowds.    The Western Railway (WR) and Central Railway (CR) witnessed a drop in their passengers. Passengers on WR dropped by around eight lakh to 32.26 lakh on Tuesday, as compared to 40.75 lakh who travelled in trains on Monday. Similarly, CR saw a drop of about 10 lakh passengers, with 39 lakh travelling on Tuesday, as against 49 lakh on Monday.    Chief PRO of CR, Shivaji Sutar said, “We urge passengers to travel only in case of emergency. We have been carrying out various awareness drives for the same. The cost of platform tickets has also been increased to work as a deterrent.”    📣 The Indian Express is now on Telegram. Click here to join our channel (@indianexpress) and stay updated with the latest headlines    For all the latest Coronavirus Outbreak News, download Indian Express App.    © IE Online Media Services Pvt Ltd \n",
            "(Cosine Score: 0.3373)\n",
            "New Delhi [India], Mar 21 (ANI): Twelve people, who have travelled by two different trains recently, have been tested positive for coronavirus, said the Railway Ministry on Saturday.  While eight of the 12 passengers had travelled from Delhi to Ramagundam on AP Sampark Kranti Express on March 13, four had travelled on Godan Express from Mumbai to Jabalpur on 16th March.  The ministry has asked people not to travel on passenger and long-distance trains unless absolutely necessary.  \"Railways has found that 4 passengers travelling on Godan Express (Train 11055) from Mumbai to Jabalpur on 16th March in B1 Coach have been tested positive for COVID-19 yesterday.They came to India from Dubai last week. All concerned have been alerted to take necessary action,\" tweeted the Railways ministry.  \"8 passengers who had travelled on AP Sampark Kranti Express from Delhi to Ramagundam on 13th March have tested positive of COVID-19 yesterday. Passengers are advised to avoid non-essential travel for the safety of fellow citizens,\" it added.  Moreover, the ministry said two passengers who were marked mandatory quarantine were deboarded after they were found to be travelling Rajdhani train between Bengaluru and Delhi today.  The total number of COVID-19 cases in India has now climbed up to 271, including 32 foreigners.  A number of trains have been cancelled in the wake of coronavirus scare.  Indian Railway Catering and Tourism Corporation (IRCTC) on Friday announced to close its food plazas, refreshment rooms, Jan Aahars and cell kitchens as a precautionary measure to prevent the spread of COVID-19 from Sunday.  Meanwhile, South Western Railway hiked the cost of platform tickets from Rs 10 to Rs 50 till March 31, 2020, to stop overcrowding on railway platforms to contain the spread of the contagious disease. (ANI) \n",
            "(Cosine Score: 0.3350)\n"
          ],
          "name": "stdout"
        }
      ]
    },
    {
      "cell_type": "code",
      "metadata": {
        "id": "Wg2PsOyhsHTE",
        "colab": {
          "base_uri": "https://localhost:8080/",
          "height": 100
        },
        "outputId": "dc074c7a-216a-4064-961d-3d8fe18f8006"
      },
      "source": [
        "import nltk\n",
        "nltk.download('wordnet')\n",
        "nltk.download('wordnet_ic')"
      ],
      "execution_count": null,
      "outputs": [
        {
          "output_type": "stream",
          "text": [
            "[nltk_data] Downloading package wordnet to /root/nltk_data...\n",
            "[nltk_data]   Package wordnet is already up-to-date!\n",
            "[nltk_data] Downloading package wordnet_ic to /root/nltk_data...\n",
            "[nltk_data]   Unzipping corpora/wordnet_ic.zip.\n"
          ],
          "name": "stdout"
        },
        {
          "output_type": "execute_result",
          "data": {
            "text/plain": [
              "True"
            ]
          },
          "metadata": {
            "tags": []
          },
          "execution_count": 28
        }
      ]
    },
    {
      "cell_type": "code",
      "metadata": {
        "id": "rHjNiYlgq_WK",
        "colab": {
          "base_uri": "https://localhost:8080/",
          "height": 33
        },
        "outputId": "6748dbac-c6c4-4ea0-95c7-1f0452c4620b"
      },
      "source": [
        "from nltk.corpus import wordnet as wn\n",
        "from nltk.corpus import wordnet_ic\n",
        "\n",
        "dog=wn.synsets('dog', pos=wn.NOUN)[0] #get the first noun synonym of the word \"dog\"\n",
        "cat=wn.synsets('cat', pos=wn.NOUN)[0]\n",
        "rose=wn.synsets('rose', pos=wn.NOUN)[0]\n",
        "flower=wn.synsets('flower', pos=wn.NOUN)[0]\n",
        "\n",
        "brown_ic = wordnet_ic.ic('ic-brown.dat') #load the brown corpus to compute the IC\n",
        "\n",
        "rose.res_similarity(flower, brown_ic)\n",
        "rose.res_similarity(dog, brown_ic)\n",
        "cat.res_similarity(dog, brown_ic)"
      ],
      "execution_count": null,
      "outputs": [
        {
          "output_type": "execute_result",
          "data": {
            "text/plain": [
              "7.911666509036577"
            ]
          },
          "metadata": {
            "tags": []
          },
          "execution_count": 29
        }
      ]
    },
    {
      "cell_type": "code",
      "metadata": {
        "id": "Kq1VyTA5uy6q",
        "colab": {
          "base_uri": "https://localhost:8080/",
          "height": 120
        },
        "outputId": "27493a0a-e636-40ae-bece-28b702853a43"
      },
      "source": [
        "!pip3 install tensorflow-hub\n",
        "import tensorflow_hub as hub"
      ],
      "execution_count": null,
      "outputs": [
        {
          "output_type": "stream",
          "text": [
            "Requirement already satisfied: tensorflow-hub in /usr/local/lib/python3.6/dist-packages (0.7.0)\n",
            "Requirement already satisfied: numpy>=1.12.0 in /usr/local/lib/python3.6/dist-packages (from tensorflow-hub) (1.18.2)\n",
            "Requirement already satisfied: protobuf>=3.4.0 in /usr/local/lib/python3.6/dist-packages (from tensorflow-hub) (3.10.0)\n",
            "Requirement already satisfied: six>=1.10.0 in /usr/local/lib/python3.6/dist-packages (from tensorflow-hub) (1.12.0)\n",
            "Requirement already satisfied: setuptools in /usr/local/lib/python3.6/dist-packages (from protobuf>=3.4.0->tensorflow-hub) (46.0.0)\n"
          ],
          "name": "stdout"
        }
      ]
    },
    {
      "cell_type": "code",
      "metadata": {
        "id": "DiJNXIWNvd2p"
      },
      "source": [
        "import tensorflow as tf\n",
        "import tensorflow_hub as hub\n",
        "import matplotlib.pyplot as plt\n",
        "import numpy as np\n",
        "import os\n",
        "import pandas as pd\n",
        "import re\n",
        "import seaborn as sns"
      ],
      "execution_count": null,
      "outputs": []
    },
    {
      "cell_type": "code",
      "metadata": {
        "id": "PlVm3zx2wMFC"
      },
      "source": [
        "\n",
        "def heatmap(x_labels, y_labels, values):\n",
        "    fig, ax = plt.subplots()\n",
        "    im = ax.imshow(values)\n",
        "\n",
        "    # We want to show all ticks...\n",
        "    ax.set_xticks(np.arange(len(x_labels)))\n",
        "    ax.set_yticks(np.arange(len(y_labels)))\n",
        "    # ... and label them with the respective list entries\n",
        "    ax.set_xticklabels(x_labels)\n",
        "    ax.set_yticklabels(y_labels)\n",
        "\n",
        "    # Rotate the tick labels and set their alignment.\n",
        "    plt.setp(ax.get_xticklabels(), rotation=45, ha=\"right\", fontsize=10,\n",
        "         rotation_mode=\"anchor\")\n",
        "\n",
        "    # Loop over data dimensions and create text annotations.\n",
        "    for i in range(len(y_labels)):\n",
        "        for j in range(len(x_labels)):\n",
        "            text = ax.text(j, i, \"%.2f\"%values[i, j],\n",
        "                           ha=\"center\", va=\"center\", color=\"w\", \n",
        "fontsize=6)\n",
        "    \n",
        "    fig.tight_layout()\n",
        "    plt.show()"
      ],
      "execution_count": null,
      "outputs": []
    },
    {
      "cell_type": "code",
      "metadata": {
        "id": "CveZQxZesDol",
        "colab": {
          "base_uri": "https://localhost:8080/",
          "height": 200
        },
        "outputId": "76d63e87-d50e-48fa-ee33-0b81e5f2606b"
      },
      "source": [
        "#@title Load the Universal Sentence Encoder's TF Hub module\n",
        "from absl import logging\n",
        "\n",
        "import tensorflow as tf\n",
        "import tensorflow_hub as hub\n",
        "import matplotlib.pyplot as plt\n",
        "import numpy as np\n",
        "import os\n",
        "import pandas as pd\n",
        "import re\n",
        "import seaborn as sns\n",
        "\n",
        "module_url = \"https://tfhub.dev/google/universal-sentence-encoder/4\" #@param [\"https://tfhub.dev/google/universal-sentence-encoder/4\", \"https://tfhub.dev/google/universal-sentence-encoder-large/5\"]\n",
        "model = hub.load(module_url)\n",
        "print (\"module %s loaded\" % module_url)\n",
        "def embed(input):\n",
        "  return model(input)"
      ],
      "execution_count": null,
      "outputs": [
        {
          "output_type": "display_data",
          "data": {
            "text/html": [
              "<p style=\"color: red;\">\n",
              "The default version of TensorFlow in Colab will soon switch to TensorFlow 2.x.<br>\n",
              "We recommend you <a href=\"https://www.tensorflow.org/guide/migrate\" target=\"_blank\">upgrade</a> now \n",
              "or ensure your notebook will continue to use TensorFlow 1.x via the <code>%tensorflow_version 1.x</code> magic:\n",
              "<a href=\"https://colab.research.google.com/notebooks/tensorflow_version.ipynb\" target=\"_blank\">more info</a>.</p>\n"
            ],
            "text/plain": [
              "<IPython.core.display.HTML object>"
            ]
          },
          "metadata": {
            "tags": []
          }
        },
        {
          "output_type": "stream",
          "text": [
            "WARNING:tensorflow:From /tensorflow-1.15.0/python3.6/tensorflow_core/python/ops/resource_variable_ops.py:1781: calling BaseResourceVariable.__init__ (from tensorflow.python.ops.resource_variable_ops) with constraint is deprecated and will be removed in a future version.\n",
            "Instructions for updating:\n",
            "If using Keras pass *_constraint arguments to layers.\n"
          ],
          "name": "stdout"
        },
        {
          "output_type": "stream",
          "text": [
            "WARNING:tensorflow:From /tensorflow-1.15.0/python3.6/tensorflow_core/python/ops/resource_variable_ops.py:1781: calling BaseResourceVariable.__init__ (from tensorflow.python.ops.resource_variable_ops) with constraint is deprecated and will be removed in a future version.\n",
            "Instructions for updating:\n",
            "If using Keras pass *_constraint arguments to layers.\n"
          ],
          "name": "stderr"
        },
        {
          "output_type": "stream",
          "text": [
            "module https://tfhub.dev/google/universal-sentence-encoder/4 loaded\n"
          ],
          "name": "stdout"
        }
      ]
    },
    {
      "cell_type": "code",
      "metadata": {
        "id": "SFPSgFI_1Zf9",
        "colab": {
          "base_uri": "https://localhost:8080/",
          "height": 33
        },
        "outputId": "806a1fc4-c8a4-4c2d-e436-416debea94da"
      },
      "source": [
        "#@title Compute a representation for each message, showing various lengths supported.\n",
        "# word = \"Elephant\"\n",
        "# sentence = \"I am a sentence for which I would like to get its embedding.\"\n",
        "# paragraph = (\n",
        "#     \"Universal Sentence Encoder embeddings also support short paragraphs. \"\n",
        "#     \"There is no hard limit on how long the paragraph is. Roughly, the longer \"\n",
        "#     \"the more 'diluted' the embedding will be.\")\n",
        "# messages = [word, sentence, paragraph]\n",
        "messages= [doc]\n",
        "# Reduce logging output.\n",
        "# logging.set_verbosity(logging.ERROR)\n",
        "\n",
        "message_embeddings = embed(messages)\n",
        "sentence_embeddings = embed(list(result_df.Article))\n",
        "\n",
        "print(message_embeddings)\n",
        "# for i, message_embedding in enumerate(np.array(sentence_embeddings).tolist()):\n",
        "#   print(\"Message: {}\".format(messages[i]))\n",
        "#   print(\"Embedding size: {}\".format(len(message_embedding)))\n",
        "#   message_embedding_snippet = \", \".join(\n",
        "#       (str(x) for x in message_embedding[:3]))\n",
        "#   print(\"Embedding: [{}, ...]\\n\".format(message_embedding_snippet))\n",
        "\n"
      ],
      "execution_count": null,
      "outputs": [
        {
          "output_type": "stream",
          "text": [
            "Tensor(\"StatefulPartitionedCall_1:0\", shape=(?, 512), dtype=float32)\n"
          ],
          "name": "stdout"
        }
      ]
    },
    {
      "cell_type": "code",
      "metadata": {
        "id": "_CGlVf1Yuw8e",
        "colab": {
          "base_uri": "https://localhost:8080/",
          "height": 345
        },
        "outputId": "ec1e5f1d-8e73-4657-d38e-7393d8050502"
      },
      "source": [
        "for query, query_embedding in zip(messages, np.array(message_embeddings).tolist()):\n",
        "    # distances = scipy.spatial.distance.cdist([query_embedding], sentence_embeddings, \"cosine\")[0]\n",
        "    distances = cosine_distances([query_embedding], sentence_embeddings)[0]\n",
        "    results = zip(range(len(distances)), distances)\n",
        "    results = sorted(results, key=lambda x: x[1])\n",
        "\n",
        "    print(\"\\n\\n======================\\n\\n\")\n",
        "    # print(\"Query:\", query)\n",
        "    print(\"\\nTop 3 most similar sentences in corpus:\")\n",
        "\n",
        "    final = {}\n",
        "    for idx, distance in results[0:number_top_matches]:\n",
        "        final[sentences[idx]] = float(1-distance)\n",
        "        print(sentences[idx].strip(), \"\\n(Cosine Score: %.4f)\" % (1-distance))\n",
        "\n",
        "scores = list(final.values())\n",
        "if(round(np.mean(scores)*100,2)>70):\n",
        "  print(\"The Article is True\")\n",
        "else:\n",
        "  print(\"The Article is False\")"
      ],
      "execution_count": null,
      "outputs": [
        {
          "output_type": "error",
          "ename": "NotImplementedError",
          "evalue": "ignored",
          "traceback": [
            "\u001b[0;31m---------------------------------------------------------------------------\u001b[0m",
            "\u001b[0;31mNotImplementedError\u001b[0m                       Traceback (most recent call last)",
            "\u001b[0;32m<ipython-input-48-0d395c9ddf9c>\u001b[0m in \u001b[0;36m<module>\u001b[0;34m()\u001b[0m\n\u001b[0;32m----> 1\u001b[0;31m \u001b[0;32mfor\u001b[0m \u001b[0mquery\u001b[0m\u001b[0;34m,\u001b[0m \u001b[0mquery_embedding\u001b[0m \u001b[0;32min\u001b[0m \u001b[0mzip\u001b[0m\u001b[0;34m(\u001b[0m\u001b[0mmessages\u001b[0m\u001b[0;34m,\u001b[0m \u001b[0mnp\u001b[0m\u001b[0;34m.\u001b[0m\u001b[0marray\u001b[0m\u001b[0;34m(\u001b[0m\u001b[0mmessage_embeddings\u001b[0m\u001b[0;34m)\u001b[0m\u001b[0;34m.\u001b[0m\u001b[0mtolist\u001b[0m\u001b[0;34m(\u001b[0m\u001b[0;34m)\u001b[0m\u001b[0;34m)\u001b[0m\u001b[0;34m:\u001b[0m\u001b[0;34m\u001b[0m\u001b[0;34m\u001b[0m\u001b[0m\n\u001b[0m\u001b[1;32m      2\u001b[0m     \u001b[0;31m# distances = scipy.spatial.distance.cdist([query_embedding], sentence_embeddings, \"cosine\")[0]\u001b[0m\u001b[0;34m\u001b[0m\u001b[0;34m\u001b[0m\u001b[0;34m\u001b[0m\u001b[0m\n\u001b[1;32m      3\u001b[0m     \u001b[0mdistances\u001b[0m \u001b[0;34m=\u001b[0m \u001b[0mcosine_distances\u001b[0m\u001b[0;34m(\u001b[0m\u001b[0;34m[\u001b[0m\u001b[0mquery_embedding\u001b[0m\u001b[0;34m]\u001b[0m\u001b[0;34m,\u001b[0m \u001b[0msentence_embeddings\u001b[0m\u001b[0;34m)\u001b[0m\u001b[0;34m[\u001b[0m\u001b[0;36m0\u001b[0m\u001b[0;34m]\u001b[0m\u001b[0;34m\u001b[0m\u001b[0;34m\u001b[0m\u001b[0m\n\u001b[1;32m      4\u001b[0m     \u001b[0mresults\u001b[0m \u001b[0;34m=\u001b[0m \u001b[0mzip\u001b[0m\u001b[0;34m(\u001b[0m\u001b[0mrange\u001b[0m\u001b[0;34m(\u001b[0m\u001b[0mlen\u001b[0m\u001b[0;34m(\u001b[0m\u001b[0mdistances\u001b[0m\u001b[0;34m)\u001b[0m\u001b[0;34m)\u001b[0m\u001b[0;34m,\u001b[0m \u001b[0mdistances\u001b[0m\u001b[0;34m)\u001b[0m\u001b[0;34m\u001b[0m\u001b[0;34m\u001b[0m\u001b[0m\n\u001b[1;32m      5\u001b[0m     \u001b[0mresults\u001b[0m \u001b[0;34m=\u001b[0m \u001b[0msorted\u001b[0m\u001b[0;34m(\u001b[0m\u001b[0mresults\u001b[0m\u001b[0;34m,\u001b[0m \u001b[0mkey\u001b[0m\u001b[0;34m=\u001b[0m\u001b[0;32mlambda\u001b[0m \u001b[0mx\u001b[0m\u001b[0;34m:\u001b[0m \u001b[0mx\u001b[0m\u001b[0;34m[\u001b[0m\u001b[0;36m1\u001b[0m\u001b[0;34m]\u001b[0m\u001b[0;34m)\u001b[0m\u001b[0;34m\u001b[0m\u001b[0;34m\u001b[0m\u001b[0m\n",
            "\u001b[0;32m/tensorflow-1.15.0/python3.6/tensorflow_core/python/framework/ops.py\u001b[0m in \u001b[0;36m__array__\u001b[0;34m(self)\u001b[0m\n\u001b[1;32m    734\u001b[0m   \u001b[0;32mdef\u001b[0m \u001b[0m__array__\u001b[0m\u001b[0;34m(\u001b[0m\u001b[0mself\u001b[0m\u001b[0;34m)\u001b[0m\u001b[0;34m:\u001b[0m\u001b[0;34m\u001b[0m\u001b[0;34m\u001b[0m\u001b[0m\n\u001b[1;32m    735\u001b[0m     raise NotImplementedError(\"Cannot convert a symbolic Tensor ({}) to a numpy\"\n\u001b[0;32m--> 736\u001b[0;31m                               \" array.\".format(self.name))\n\u001b[0m\u001b[1;32m    737\u001b[0m \u001b[0;34m\u001b[0m\u001b[0m\n\u001b[1;32m    738\u001b[0m   \u001b[0;32mdef\u001b[0m \u001b[0m__len__\u001b[0m\u001b[0;34m(\u001b[0m\u001b[0mself\u001b[0m\u001b[0;34m)\u001b[0m\u001b[0;34m:\u001b[0m\u001b[0;34m\u001b[0m\u001b[0;34m\u001b[0m\u001b[0m\n",
            "\u001b[0;31mNotImplementedError\u001b[0m: Cannot convert a symbolic Tensor (StatefulPartitionedCall_3:0) to a numpy array."
          ]
        }
      ]
    },
    {
      "cell_type": "code",
      "metadata": {
        "id": "J8dmNG6A2MNd",
        "colab": {
          "base_uri": "https://localhost:8080/",
          "height": 62
        },
        "outputId": "be55686b-9d18-483b-b7ac-f94b25d6cd34"
      },
      "source": [
        "import tensorflow_hub as hub\n",
        "import tensorflow as tf\n",
        "\n",
        "elmo = hub.Module(\"https://tfhub.dev/google/elmo/2\", trainable=True)\n"
      ],
      "execution_count": null,
      "outputs": [
        {
          "output_type": "display_data",
          "data": {
            "text/html": [
              "<p style=\"color: red;\">\n",
              "The default version of TensorFlow in Colab will soon switch to TensorFlow 2.x.<br>\n",
              "We recommend you <a href=\"https://www.tensorflow.org/guide/migrate\" target=\"_blank\">upgrade</a> now \n",
              "or ensure your notebook will continue to use TensorFlow 1.x via the <code>%tensorflow_version 1.x</code> magic:\n",
              "<a href=\"https://colab.research.google.com/notebooks/tensorflow_version.ipynb\" target=\"_blank\">more info</a>.</p>\n"
            ],
            "text/plain": [
              "<IPython.core.display.HTML object>"
            ]
          },
          "metadata": {
            "tags": []
          }
        }
      ]
    },
    {
      "cell_type": "code",
      "metadata": {
        "id": "HTGAoDeI_dsw",
        "colab": {
          "base_uri": "https://localhost:8080/",
          "height": 67
        },
        "outputId": "45fb2fd2-223c-4b3d-aa1e-64107e018410"
      },
      "source": [
        "x = [\"Roasted ants are a popular snack in Columbia\"]\n",
        "\n",
        "# Extract ELMo features \n",
        "messages = [doc]\n",
        "message_embeddings = elmo([doc], signature=\"default\", as_dict=True)[\"elmo\"]\n",
        "\n",
        "message_embeddings.shape"
      ],
      "execution_count": null,
      "outputs": [
        {
          "output_type": "stream",
          "text": [
            "INFO:tensorflow:Saver not created because there are no variables in the graph to restore\n"
          ],
          "name": "stdout"
        },
        {
          "output_type": "stream",
          "text": [
            "INFO:tensorflow:Saver not created because there are no variables in the graph to restore\n"
          ],
          "name": "stderr"
        },
        {
          "output_type": "execute_result",
          "data": {
            "text/plain": [
              "TensorShape([Dimension(1), Dimension(201), Dimension(1024)])"
            ]
          },
          "metadata": {
            "tags": []
          },
          "execution_count": 9
        }
      ]
    },
    {
      "cell_type": "code",
      "metadata": {
        "id": "K5bwxQZe_mgd",
        "colab": {
          "base_uri": "https://localhost:8080/",
          "height": 67
        },
        "outputId": "db597760-2ead-4ccb-d84d-d7b2f16e6a02"
      },
      "source": [
        "sentences = list(result_df.Article)\n",
        "\n",
        "sentence_embeddings = elmo(sentences, signature=\"default\", as_dict=True)[\"elmo\"]\n",
        "sentence_embeddings.shape"
      ],
      "execution_count": null,
      "outputs": [
        {
          "output_type": "stream",
          "text": [
            "INFO:tensorflow:Saver not created because there are no variables in the graph to restore\n"
          ],
          "name": "stdout"
        },
        {
          "output_type": "stream",
          "text": [
            "INFO:tensorflow:Saver not created because there are no variables in the graph to restore\n"
          ],
          "name": "stderr"
        },
        {
          "output_type": "execute_result",
          "data": {
            "text/plain": [
              "TensorShape([Dimension(56), Dimension(2535), Dimension(1024)])"
            ]
          },
          "metadata": {
            "tags": []
          },
          "execution_count": 10
        }
      ]
    },
    {
      "cell_type": "code",
      "metadata": {
        "id": "o9lxdxUpDpX_"
      },
      "source": [
        "with tf.Session() as sess:\n",
        "  sess.run(tf.global_variables_initializer())\n",
        "  sess.run(tf.tables_initializer())\n",
        "  message_embeddings = sess.run(message_embeddings)\n",
        "  # sentence_embeddings = sess.run(sentence_embeddings)"
      ],
      "execution_count": null,
      "outputs": []
    },
    {
      "cell_type": "code",
      "metadata": {
        "id": "nXfY4WPZtKJS"
      },
      "source": [
        "with tf.Session() as sess:\n",
        "  sess.run(tf.global_variables_initializer())\n",
        "  sess.run(tf.tables_initializer())\n",
        "  sentence_embeddings = sess.run(sentence_embeddings)"
      ],
      "execution_count": null,
      "outputs": []
    },
    {
      "cell_type": "code",
      "metadata": {
        "id": "lct1ZN11_x9I",
        "colab": {
          "base_uri": "https://localhost:8080/",
          "height": 228
        },
        "outputId": "73b4bb14-4d1d-4fe0-e776-6189b2d5a794"
      },
      "source": [
        "for query, query_embedding in zip(messages, message_embeddings.numpy_function()):\n",
        "    # distances = scipy.spatial.distance.cdist([query_embedding], sentence_embeddings, \"cosine\")[0]\n",
        "    distances = cosine_distances([query_embedding], sentence_embeddings_)[0]\n",
        "    results = zip(range(len(distances)), distances)\n",
        "    results = sorted(results, key=lambda x: x[1])\n",
        "\n",
        "    print(\"\\n\\n======================\\n\\n\")\n",
        "    # print(\"Query:\", query)\n",
        "    print(\"\\nTop 3 most similar sentences in corpus:\")\n",
        "\n",
        "    final = {}\n",
        "    for idx, distance in results[0:5]:\n",
        "        final[sentences[idx]] = float(1-distance)\n",
        "        print(sentences[idx].strip(), \"\\n(Cosine Score: %.4f)\" % (1-distance))\n",
        "\n",
        "scores = list(final.values())\n",
        "if(round(np.mean(scores)*100,2)>70):\n",
        "  print(\"The Article is True\")\n",
        "else:\n",
        "  print(\"The Article is False\")"
      ],
      "execution_count": null,
      "outputs": [
        {
          "output_type": "error",
          "ename": "AttributeError",
          "evalue": "ignored",
          "traceback": [
            "\u001b[0;31m---------------------------------------------------------------------------\u001b[0m",
            "\u001b[0;31mAttributeError\u001b[0m                            Traceback (most recent call last)",
            "\u001b[0;32m<ipython-input-100-317748211ae3>\u001b[0m in \u001b[0;36m<module>\u001b[0;34m()\u001b[0m\n\u001b[0;32m----> 1\u001b[0;31m \u001b[0;32mfor\u001b[0m \u001b[0mquery\u001b[0m\u001b[0;34m,\u001b[0m \u001b[0mquery_embedding\u001b[0m \u001b[0;32min\u001b[0m \u001b[0mzip\u001b[0m\u001b[0;34m(\u001b[0m\u001b[0mmessages\u001b[0m\u001b[0;34m,\u001b[0m \u001b[0mmessage_embeddings\u001b[0m\u001b[0;34m.\u001b[0m\u001b[0mnumpy_function\u001b[0m\u001b[0;34m(\u001b[0m\u001b[0;34m)\u001b[0m\u001b[0;34m)\u001b[0m\u001b[0;34m:\u001b[0m\u001b[0;34m\u001b[0m\u001b[0;34m\u001b[0m\u001b[0m\n\u001b[0m\u001b[1;32m      2\u001b[0m     \u001b[0;31m# distances = scipy.spatial.distance.cdist([query_embedding], sentence_embeddings, \"cosine\")[0]\u001b[0m\u001b[0;34m\u001b[0m\u001b[0;34m\u001b[0m\u001b[0;34m\u001b[0m\u001b[0m\n\u001b[1;32m      3\u001b[0m     \u001b[0mdistances\u001b[0m \u001b[0;34m=\u001b[0m \u001b[0mcosine_distances\u001b[0m\u001b[0;34m(\u001b[0m\u001b[0;34m[\u001b[0m\u001b[0mquery_embedding\u001b[0m\u001b[0;34m]\u001b[0m\u001b[0;34m,\u001b[0m \u001b[0msentence_embeddings_\u001b[0m\u001b[0;34m)\u001b[0m\u001b[0;34m[\u001b[0m\u001b[0;36m0\u001b[0m\u001b[0;34m]\u001b[0m\u001b[0;34m\u001b[0m\u001b[0;34m\u001b[0m\u001b[0m\n\u001b[1;32m      4\u001b[0m     \u001b[0mresults\u001b[0m \u001b[0;34m=\u001b[0m \u001b[0mzip\u001b[0m\u001b[0;34m(\u001b[0m\u001b[0mrange\u001b[0m\u001b[0;34m(\u001b[0m\u001b[0mlen\u001b[0m\u001b[0;34m(\u001b[0m\u001b[0mdistances\u001b[0m\u001b[0;34m)\u001b[0m\u001b[0;34m)\u001b[0m\u001b[0;34m,\u001b[0m \u001b[0mdistances\u001b[0m\u001b[0;34m)\u001b[0m\u001b[0;34m\u001b[0m\u001b[0;34m\u001b[0m\u001b[0m\n\u001b[1;32m      5\u001b[0m     \u001b[0mresults\u001b[0m \u001b[0;34m=\u001b[0m \u001b[0msorted\u001b[0m\u001b[0;34m(\u001b[0m\u001b[0mresults\u001b[0m\u001b[0;34m,\u001b[0m \u001b[0mkey\u001b[0m\u001b[0;34m=\u001b[0m\u001b[0;32mlambda\u001b[0m \u001b[0mx\u001b[0m\u001b[0;34m:\u001b[0m \u001b[0mx\u001b[0m\u001b[0;34m[\u001b[0m\u001b[0;36m1\u001b[0m\u001b[0;34m]\u001b[0m\u001b[0;34m)\u001b[0m\u001b[0;34m\u001b[0m\u001b[0;34m\u001b[0m\u001b[0m\n",
            "\u001b[0;31mAttributeError\u001b[0m: 'Tensor' object has no attribute 'numpy_function'"
          ]
        }
      ]
    },
    {
      "cell_type": "code",
      "metadata": {
        "id": "z-DxG1H_PNVD"
      },
      "source": [
        ""
      ],
      "execution_count": null,
      "outputs": []
    },
    {
      "cell_type": "code",
      "metadata": {
        "id": "gRGZ3PDxC94L"
      },
      "source": [
        ""
      ],
      "execution_count": null,
      "outputs": []
    }
  ]
}